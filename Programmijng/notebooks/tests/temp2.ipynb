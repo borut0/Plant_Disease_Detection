{
 "cells": [
  {
   "cell_type": "code",
   "execution_count": 46,
   "id": "bd213a86",
   "metadata": {},
   "outputs": [],
   "source": [
    "import shutil\n",
    "import os\n",
    "import random\n",
    "import glob"
   ]
  },
  {
   "cell_type": "code",
   "execution_count": 123,
   "id": "877dfbc4",
   "metadata": {
    "collapsed": true
   },
   "outputs": [
    {
     "ename": "AttributeError",
     "evalue": "module 'os' has no attribute 'rmtree'",
     "output_type": "error",
     "traceback": [
      "\u001b[0;31m---------------------------------------------------------------------------\u001b[0m",
      "\u001b[0;31mAttributeError\u001b[0m                            Traceback (most recent call last)",
      "Cell \u001b[0;32mIn[123], line 22\u001b[0m\n\u001b[1;32m     19\u001b[0m     shutil\u001b[38;5;241m.\u001b[39mcopytree(\u001b[38;5;124m'\u001b[39m\u001b[38;5;124mCat\u001b[39m\u001b[38;5;124m'\u001b[39m,\u001b[38;5;124m'\u001b[39m\u001b[38;5;124mtrain/cat\u001b[39m\u001b[38;5;124m'\u001b[39m)\n\u001b[1;32m     20\u001b[0m     shutil\u001b[38;5;241m.\u001b[39mcopytree(\u001b[38;5;124m'\u001b[39m\u001b[38;5;124mDog\u001b[39m\u001b[38;5;124m'\u001b[39m,\u001b[38;5;124m'\u001b[39m\u001b[38;5;124mtrain/dog\u001b[39m\u001b[38;5;124m'\u001b[39m)\n\u001b[0;32m---> 22\u001b[0m     \u001b[43mos\u001b[49m\u001b[38;5;241;43m.\u001b[39;49m\u001b[43mrmtree\u001b[49m(\u001b[38;5;124m'\u001b[39m\u001b[38;5;124mCat\u001b[39m\u001b[38;5;124m'\u001b[39m)\n\u001b[1;32m     23\u001b[0m     os\u001b[38;5;241m.\u001b[39mrmtree(\u001b[38;5;124m'\u001b[39m\u001b[38;5;124mDog\u001b[39m\u001b[38;5;124m'\u001b[39m)\n\u001b[1;32m     25\u001b[0m os\u001b[38;5;241m.\u001b[39mchdir(\u001b[38;5;124m'\u001b[39m\u001b[38;5;124m..\u001b[39m\u001b[38;5;124m'\u001b[39m)\n",
      "\u001b[0;31mAttributeError\u001b[0m: module 'os' has no attribute 'rmtree'"
     ]
    }
   ],
   "source": [
    "os.chdir('PetImages')\n",
    "if os.path.isdir('train') is False:\n",
    "    os.makedirs('test/cat')\n",
    "    os.makedirs('test/dog')\n",
    "    \n",
    "    os.makedirs('valid/cat')\n",
    "    os.makedirs('valid/dog')\n",
    "    \n",
    "    for i in random.sample(glob.glob('Cat/*'),int(len(os.listdir('Cat/'))*.1)):\n",
    "        shutil.move(i,'test/cat')\n",
    "    for i in random.sample(glob.glob('Cat/*'),int(len(os.listdir('Cat/'))*.1)):\n",
    "        shutil.move(i,'valid/cat')\n",
    "        \n",
    "    for i in random.sample(glob.glob('Dog/*'),int(len(os.listdir('Dog/'))*.1)):\n",
    "        shutil.move(i,'test/dog')\n",
    "    for i in random.sample(glob.glob('Dog/*'),int(len(os.listdir('Dog/'))*.1)):\n",
    "        shutil.move(i,'valid/dog')\n",
    "    \n",
    "    shutil.copytree('Cat','train/cat')\n",
    "    shutil.copytree('Dog','train/dog')\n",
    "    \n",
    "    shutil.rmtree('Cat')\n",
    "    shutil.rmtree('Dog')\n",
    "\n",
    "os.chdir('..')"
   ]
  },
  {
   "cell_type": "code",
   "execution_count": 139,
   "id": "4ebd6a32",
   "metadata": {},
   "outputs": [
    {
     "data": {
      "text/plain": [
       "['Cat', 'Dog', 'test', 'valid', 'train']"
      ]
     },
     "execution_count": 139,
     "metadata": {},
     "output_type": "execute_result"
    }
   ],
   "source": [
    "os.listdir('.')"
   ]
  },
  {
   "cell_type": "code",
   "execution_count": 166,
   "id": "23c18f4d",
   "metadata": {},
   "outputs": [
    {
     "name": "stdout",
     "output_type": "stream",
     "text": [
      "Found 20154 images belonging to 2 classes.\n"
     ]
    }
   ],
   "source": [
    "from tensorflow.keras.preprocessing.image import ImageDataGenerator\n",
    "train_datagen = ImageDataGenerator(\n",
    "        rescale=1./255,\n",
    "        rotation_range=10,\n",
    "        horizontal_flip=True\n",
    ")\n",
    "train_generator = train_datagen.flow_from_directory(\n",
    "        'train',\n",
    "        target_size=(256,256),\n",
    "        batch_size=32,\n",
    "        class_mode=\"binary\"\n",
    "#         save_to_dir=\"C:\\\\Code\\\\potato-disease-classification\\\\training\\\\AugmentedImages\"\n",
    ")"
   ]
  },
  {
   "cell_type": "code",
   "execution_count": 168,
   "id": "cbe47fb7",
   "metadata": {},
   "outputs": [
    {
     "data": {
      "text/plain": [
       "['cat', 'dog']"
      ]
     },
     "execution_count": 168,
     "metadata": {},
     "output_type": "execute_result"
    }
   ],
   "source": [
    "class_name = list(train_generator.class_indices.keys())\n",
    "class_name"
   ]
  },
  {
   "cell_type": "code",
   "execution_count": 169,
   "id": "ff3a964c",
   "metadata": {},
   "outputs": [
    {
     "name": "stdout",
     "output_type": "stream",
     "text": [
      "Found 2238 images belonging to 2 classes.\n"
     ]
    }
   ],
   "source": [
    "validation_datagen = ImageDataGenerator(\n",
    "        rescale=1./255,\n",
    "        rotation_range=10,\n",
    "        horizontal_flip=True)\n",
    "validation_generator = validation_datagen.flow_from_directory(\n",
    "        'valid',\n",
    "        target_size=(256,256),\n",
    "        batch_size=32,\n",
    "        class_mode=\"binary\"\n",
    ")"
   ]
  },
  {
   "cell_type": "code",
   "execution_count": 170,
   "id": "4a5526e1",
   "metadata": {},
   "outputs": [
    {
     "name": "stdout",
     "output_type": "stream",
     "text": [
      "Found 2486 images belonging to 2 classes.\n"
     ]
    }
   ],
   "source": [
    "test_datagen = ImageDataGenerator(rescale=1./255)\n",
    "test_generator = test_datagen.flow_from_directory(\n",
    "        'test',\n",
    "        target_size=(256,256),\n",
    "        batch_size=32,\n",
    "        class_mode=\"binary\"\n",
    ")"
   ]
  },
  {
   "cell_type": "code",
   "execution_count": 186,
   "id": "c1c2fab1",
   "metadata": {},
   "outputs": [
    {
     "name": "stdout",
     "output_type": "stream",
     "text": [
      "1\n"
     ]
    }
   ],
   "source": [
    "import tensorflow as tf\n",
    "from tensorflow.keras import models, layers\n",
    "import matplotlib.pyplot as plt\n",
    "physical_devices = tf.config.experimental.list_physical_devices('GPU')\n",
    "print(len(physical_devices))"
   ]
  },
  {
   "cell_type": "code",
   "execution_count": 187,
   "id": "209c44e1",
   "metadata": {},
   "outputs": [],
   "source": [
    "model = models.Sequential([\n",
    "    layers.InputLayer(input_shape=(256,256,3)),\n",
    "    layers.Conv2D(32, kernel_size = (3,3), activation='relu'),\n",
    "    layers.MaxPooling2D((2, 2)),\n",
    "    layers.Conv2D(64,  kernel_size = (3,3), activation='relu'),\n",
    "    layers.MaxPooling2D((2, 2)),\n",
    "    layers.Conv2D(64,  kernel_size = (3,3), activation='relu'),\n",
    "    layers.MaxPooling2D((2, 2)),\n",
    "    layers.Conv2D(64, (3, 3), activation='relu'),\n",
    "    layers.MaxPooling2D((2, 2)),\n",
    "    layers.Conv2D(64, (3, 3), activation='relu'),\n",
    "    layers.MaxPooling2D((2, 2)),\n",
    "    layers.Conv2D(64, (3, 3), activation='relu'),\n",
    "    layers.MaxPooling2D((2, 2)),\n",
    "    layers.Flatten(),\n",
    "    layers.Dense(64, activation='relu'),\n",
    "    layers.Dense(1, activation='sigmoid'),\n",
    "])"
   ]
  },
  {
   "cell_type": "code",
   "execution_count": 188,
   "id": "5c10f43e",
   "metadata": {},
   "outputs": [
    {
     "name": "stdout",
     "output_type": "stream",
     "text": [
      "Model: \"sequential_2\"\n",
      "_________________________________________________________________\n",
      "Layer (type)                 Output Shape              Param #   \n",
      "=================================================================\n",
      "conv2d_12 (Conv2D)           (None, 254, 254, 32)      896       \n",
      "_________________________________________________________________\n",
      "max_pooling2d_12 (MaxPooling (None, 127, 127, 32)      0         \n",
      "_________________________________________________________________\n",
      "conv2d_13 (Conv2D)           (None, 125, 125, 64)      18496     \n",
      "_________________________________________________________________\n",
      "max_pooling2d_13 (MaxPooling (None, 62, 62, 64)        0         \n",
      "_________________________________________________________________\n",
      "conv2d_14 (Conv2D)           (None, 60, 60, 64)        36928     \n",
      "_________________________________________________________________\n",
      "max_pooling2d_14 (MaxPooling (None, 30, 30, 64)        0         \n",
      "_________________________________________________________________\n",
      "conv2d_15 (Conv2D)           (None, 28, 28, 64)        36928     \n",
      "_________________________________________________________________\n",
      "max_pooling2d_15 (MaxPooling (None, 14, 14, 64)        0         \n",
      "_________________________________________________________________\n",
      "conv2d_16 (Conv2D)           (None, 12, 12, 64)        36928     \n",
      "_________________________________________________________________\n",
      "max_pooling2d_16 (MaxPooling (None, 6, 6, 64)          0         \n",
      "_________________________________________________________________\n",
      "conv2d_17 (Conv2D)           (None, 4, 4, 64)          36928     \n",
      "_________________________________________________________________\n",
      "max_pooling2d_17 (MaxPooling (None, 2, 2, 64)          0         \n",
      "_________________________________________________________________\n",
      "flatten_2 (Flatten)          (None, 256)               0         \n",
      "_________________________________________________________________\n",
      "dense_4 (Dense)              (None, 64)                16448     \n",
      "_________________________________________________________________\n",
      "dense_5 (Dense)              (None, 1)                 65        \n",
      "=================================================================\n",
      "Total params: 183,617\n",
      "Trainable params: 183,617\n",
      "Non-trainable params: 0\n",
      "_________________________________________________________________\n"
     ]
    }
   ],
   "source": [
    "model.summary()"
   ]
  },
  {
   "cell_type": "code",
   "execution_count": 189,
   "id": "166f0ffc",
   "metadata": {},
   "outputs": [],
   "source": [
    "model.compile(\n",
    "    optimizer='adam',\n",
    "    loss=tf.keras.losses.binary_crossentropy,\n",
    "    metrics=['accuracy']\n",
    ")"
   ]
  },
  {
   "cell_type": "code",
   "execution_count": 183,
   "id": "19930e70",
   "metadata": {},
   "outputs": [],
   "source": [
    "callbacks = tf.keras.callbacks.EarlyStopping(\n",
    "    monitor=\"val_loss\",\n",
    "    min_delta=0.00001,\n",
    "    patience=5,\n",
    "    verbose=1,\n",
    "    mode=\"auto\",\n",
    "    baseline=None,\n",
    "    restore_best_weights=False,\n",
    ")"
   ]
  },
  {
   "cell_type": "code",
   "execution_count": 184,
   "id": "0c5122b6",
   "metadata": {},
   "outputs": [],
   "source": [
    "steps_per_epoch = 20154/32\n",
    "validation_steps = 2238/32"
   ]
  },
  {
   "cell_type": "code",
   "execution_count": 190,
   "id": "0bd67bb3",
   "metadata": {},
   "outputs": [
    {
     "name": "stdout",
     "output_type": "stream",
     "text": [
      "Epoch 1/50\n",
      "629/629 [==============================] - 1385s 2s/step - loss: 0.6595 - accuracy: 0.5832 - val_loss: 0.5255 - val_accuracy: 0.7449\n",
      "Epoch 2/50\n",
      "629/629 [==============================] - 1633s 3s/step - loss: 0.5191 - accuracy: 0.7425 - val_loss: 0.4265 - val_accuracy: 0.8123\n",
      "Epoch 3/50\n",
      "629/629 [==============================] - 2056s 3s/step - loss: 0.4139 - accuracy: 0.8062 - val_loss: 0.3779 - val_accuracy: 0.8226\n",
      "Epoch 4/50\n",
      "629/629 [==============================] - 968s 2s/step - loss: 0.3454 - accuracy: 0.8467 - val_loss: 0.2841 - val_accuracy: 0.8744\n",
      "Epoch 5/50\n",
      "629/629 [==============================] - 870s 1s/step - loss: 0.2897 - accuracy: 0.8742 - val_loss: 0.2621 - val_accuracy: 0.8883\n",
      "Epoch 6/50\n",
      "629/629 [==============================] - 775s 1s/step - loss: 0.2568 - accuracy: 0.8921 - val_loss: 0.2064 - val_accuracy: 0.9129\n",
      "Epoch 7/50\n",
      "629/629 [==============================] - 1565s 2s/step - loss: 0.2220 - accuracy: 0.9050 - val_loss: 0.2088 - val_accuracy: 0.9151\n",
      "Epoch 8/50\n",
      "629/629 [==============================] - 841s 1s/step - loss: 0.2075 - accuracy: 0.9141 - val_loss: 0.2614 - val_accuracy: 0.8901\n",
      "Epoch 9/50\n",
      "629/629 [==============================] - 812s 1s/step - loss: 0.1789 - accuracy: 0.9271 - val_loss: 0.1951 - val_accuracy: 0.9178\n",
      "Epoch 10/50\n",
      "629/629 [==============================] - 852s 1s/step - loss: 0.1711 - accuracy: 0.9280 - val_loss: 0.2031 - val_accuracy: 0.9173\n",
      "Epoch 11/50\n",
      "629/629 [==============================] - 940s 1s/step - loss: 0.1519 - accuracy: 0.9372 - val_loss: 0.1703 - val_accuracy: 0.9348\n",
      "Epoch 12/50\n",
      "629/629 [==============================] - 888s 1s/step - loss: 0.1484 - accuracy: 0.9395 - val_loss: 0.1603 - val_accuracy: 0.9312\n",
      "Epoch 13/50\n",
      "629/629 [==============================] - 708s 1s/step - loss: 0.1438 - accuracy: 0.9423 - val_loss: 0.1870 - val_accuracy: 0.9312\n",
      "Epoch 14/50\n",
      "629/629 [==============================] - 602s 956ms/step - loss: 0.1350 - accuracy: 0.9463 - val_loss: 0.1475 - val_accuracy: 0.9388\n",
      "Epoch 15/50\n",
      "629/629 [==============================] - 494s 784ms/step - loss: 0.1226 - accuracy: 0.9477 - val_loss: 0.1782 - val_accuracy: 0.9227\n",
      "Epoch 16/50\n",
      "629/629 [==============================] - 356s 566ms/step - loss: 0.1345 - accuracy: 0.9467 - val_loss: 0.1613 - val_accuracy: 0.9379\n",
      "Epoch 17/50\n",
      "629/629 [==============================] - 361s 572ms/step - loss: 0.1196 - accuracy: 0.9539 - val_loss: 0.1801 - val_accuracy: 0.9254\n",
      "Epoch 18/50\n",
      "629/629 [==============================] - 363s 576ms/step - loss: 0.1136 - accuracy: 0.9550 - val_loss: 0.1491 - val_accuracy: 0.9428\n",
      "Epoch 19/50\n",
      "629/629 [==============================] - 365s 580ms/step - loss: 0.1117 - accuracy: 0.9567 - val_loss: 0.1637 - val_accuracy: 0.9410\n",
      "Epoch 00019: early stopping\n"
     ]
    }
   ],
   "source": [
    "history = model.fit(\n",
    "    train_generator,\n",
    "    steps_per_epoch=steps_per_epoch,\n",
    "    batch_size=32,\n",
    "    validation_data=validation_generator,\n",
    "    validation_steps=validation_steps,\n",
    "    verbose=1,\n",
    "    epochs=50,\n",
    "    callbacks=callbacks,\n",
    ")"
   ]
  },
  {
   "cell_type": "code",
   "execution_count": 192,
   "id": "31d4ec8b",
   "metadata": {},
   "outputs": [
    {
     "name": "stdout",
     "output_type": "stream",
     "text": [
      "78/78 [==============================] - 42s 538ms/step - loss: 0.1718 - accuracy: 0.9312\n"
     ]
    }
   ],
   "source": [
    "score = model.evaluate(test_generator)"
   ]
  },
  {
   "cell_type": "code",
   "execution_count": 193,
   "id": "50c832ec",
   "metadata": {},
   "outputs": [
    {
     "data": {
      "text/plain": [
       "[0.1718301624059677, 0.9312148094177246]"
      ]
     },
     "execution_count": 193,
     "metadata": {},
     "output_type": "execute_result"
    }
   ],
   "source": [
    "score"
   ]
  },
  {
   "cell_type": "code",
   "execution_count": 196,
   "id": "a8eb066c",
   "metadata": {},
   "outputs": [
    {
     "data": {
      "image/png": "[encoded data removed]",
      "text/plain": [
       "<Figure size 800x800 with 2 Axes>"
      ]
     },
     "metadata": {},
     "output_type": "display_data"
    }
   ],
   "source": [
    "EPOCHS = 19\n",
    "\n",
    "plt.figure(figsize=(8, 8))\n",
    "plt.subplot(1, 2, 1)\n",
    "plt.plot(range(EPOCHS), history.history['accuracy'], label='Training Accuracy')\n",
    "plt.plot(range(EPOCHS), history.history['val_accuracy'], label='Validation Accuracy')\n",
    "plt.legend(loc='lower right')\n",
    "plt.title('Training and Validation Accuracy')\n",
    "\n",
    "plt.subplot(1, 2, 2)\n",
    "plt.plot(range(EPOCHS), history.history['loss'], label='Training Loss')\n",
    "plt.plot(range(EPOCHS), history.history['val_loss'], label='Validation Loss')\n",
    "plt.legend(loc='upper right')\n",
    "plt.title('Training and Validation Loss')\n",
    "plt.show()"
   ]
  },
  {
   "cell_type": "code",
   "execution_count": null,
   "id": "5102f17d",
   "metadata": {},
   "outputs": [],
   "source": [
    "def predict(model, img):\n",
    "    img_array = tf.keras.preprocessing.image.img_to_array(images[i])\n",
    "    img_array = tf.expand_dims(img_array, 0)\n",
    "\n",
    "    predictions = model.predict(img_array)\n",
    "\n",
    "    predicted_class = class_names[np.argmax(predictions[0])]\n",
    "    confidence = round(100 * (np.max(predictions[0])), 2)\n",
    "    return predicted_class, confidence\n",
    "\n",
    "plt.figure(figsize=(15, 15))\n",
    "for images, labels in test_generator:\n",
    "    for i in range(9):\n",
    "        ax = plt.subplot(3, 3, i + 1)\n",
    "        plt.imshow(images[i])\n",
    "        \n",
    "        predicted_class, confidence = predict(model, images[i])\n",
    "        actual_class = class_names[int(labels[i])] \n",
    "        \n",
    "        plt.title(f\"Actual: {actual_class},\\n Predicted: {predicted_class}.\\n Confidence: {confidence}%\")\n",
    "        \n",
    "        plt.axis(\"off\")\n",
    "    break"
   ]
  },
  {
   "cell_type": "code",
   "execution_count": null,
   "id": "359dbe4c",
   "metadata": {},
   "outputs": [],
   "source": [
    "hello"
   ]
  }
 ],
 "metadata": {
  "kernelspec": {
   "display_name": "Python 3 (ipykernel)",
   "language": "python",
   "name": "python3"
  },
  "language_info": {
   "codemirror_mode": {
    "name": "ipython",
    "version": 3
   },
   "file_extension": ".py",
   "mimetype": "text/x-python",
   "name": "python",
   "nbconvert_exporter": "python",
   "pygments_lexer": "ipython3",
   "version": "3.9.16"
  }
 },
 "nbformat": 4,
 "nbformat_minor": 5
}
