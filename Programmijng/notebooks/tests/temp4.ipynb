{
 "cells": [
  {
   "cell_type": "code",
   "execution_count": 1,
   "id": "bc8f4f26",
   "metadata": {},
   "outputs": [
    {
     "name": "stderr",
     "output_type": "stream",
     "text": [
      "2023-04-11 00:13:21.156772: I tensorflow/stream_executor/platform/default/dso_loader.cc:49] Successfully opened dynamic library libcudart.so.10.1\n"
     ]
    },
    {
     "name": "stdout",
     "output_type": "stream",
     "text": [
      "1\n"
     ]
    },
    {
     "name": "stderr",
     "output_type": "stream",
     "text": [
      "2023-04-11 00:13:22.183609: I tensorflow/compiler/jit/xla_cpu_device.cc:41] Not creating XLA devices, tf_xla_enable_xla_devices not set\n",
      "2023-04-11 00:13:22.184348: I tensorflow/stream_executor/platform/default/dso_loader.cc:49] Successfully opened dynamic library libcuda.so.1\n",
      "2023-04-11 00:13:22.223291: I tensorflow/stream_executor/cuda/cuda_gpu_executor.cc:941] successful NUMA node read from SysFS had negative value (-1), but there must be at least one NUMA node, so returning NUMA node zero\n",
      "2023-04-11 00:13:22.223787: I tensorflow/core/common_runtime/gpu/gpu_device.cc:1720] Found device 0 with properties: \n",
      "pciBusID: 0000:01:00.0 name: NVIDIA GeForce GTX 1050 computeCapability: 6.1\n",
      "coreClock: 1.493GHz coreCount: 5 deviceMemorySize: 3.95GiB deviceMemoryBandwidth: 104.43GiB/s\n",
      "2023-04-11 00:13:22.223880: I tensorflow/stream_executor/platform/default/dso_loader.cc:49] Successfully opened dynamic library libcudart.so.10.1\n",
      "2023-04-11 00:13:22.229516: I tensorflow/stream_executor/platform/default/dso_loader.cc:49] Successfully opened dynamic library libcublas.so.10\n",
      "2023-04-11 00:13:22.229651: I tensorflow/stream_executor/platform/default/dso_loader.cc:49] Successfully opened dynamic library libcublasLt.so.10\n",
      "2023-04-11 00:13:22.234216: I tensorflow/stream_executor/platform/default/dso_loader.cc:49] Successfully opened dynamic library libcufft.so.10\n",
      "2023-04-11 00:13:22.235207: I tensorflow/stream_executor/platform/default/dso_loader.cc:49] Successfully opened dynamic library libcurand.so.10\n",
      "2023-04-11 00:13:22.240832: I tensorflow/stream_executor/platform/default/dso_loader.cc:49] Successfully opened dynamic library libcusolver.so.10\n",
      "2023-04-11 00:13:22.243143: I tensorflow/stream_executor/platform/default/dso_loader.cc:49] Successfully opened dynamic library libcusparse.so.10\n",
      "2023-04-11 00:13:22.249653: I tensorflow/stream_executor/platform/default/dso_loader.cc:49] Successfully opened dynamic library libcudnn.so.7\n",
      "2023-04-11 00:13:22.249834: I tensorflow/stream_executor/cuda/cuda_gpu_executor.cc:941] successful NUMA node read from SysFS had negative value (-1), but there must be at least one NUMA node, so returning NUMA node zero\n",
      "2023-04-11 00:13:22.250143: I tensorflow/stream_executor/cuda/cuda_gpu_executor.cc:941] successful NUMA node read from SysFS had negative value (-1), but there must be at least one NUMA node, so returning NUMA node zero\n",
      "2023-04-11 00:13:22.250294: I tensorflow/core/common_runtime/gpu/gpu_device.cc:1862] Adding visible gpu devices: 0\n"
     ]
    }
   ],
   "source": [
    "import numpy as np\n",
    "import pandas as pd \n",
    "import matplotlib.pyplot as plt\n",
    "import tensorflow as tf\n",
    "from tensorflow.keras import layers, models\n",
    "import os\n",
    "physical_devices = tf.config.experimental.list_physical_devices('GPU')\n",
    "print(len(physical_devices))"
   ]
  },
  {
   "cell_type": "code",
   "execution_count": 3,
   "id": "6e7f2004",
   "metadata": {},
   "outputs": [],
   "source": [
    "## Defining batch specfications\n",
    "batch_size = 50\n",
    "img_height = 256\n",
    "img_width = 256"
   ]
  },
  {
   "cell_type": "code",
   "execution_count": 4,
   "id": "ff5b7a54",
   "metadata": {},
   "outputs": [
    {
     "name": "stdout",
     "output_type": "stream",
     "text": [
      "Found 70295 images belonging to 38 classes.\n"
     ]
    }
   ],
   "source": [
    "train_datagen = tf.keras.preprocessing.image.ImageDataGenerator(\n",
    "    rescale = 1./255,\n",
    "    rotation_range=10,\n",
    "    horizontal_flip=True,\n",
    "    zoom_range=0.2,\n",
    "    shear_range = 0.2,\n",
    ")\n",
    "train_generator = train_datagen.flow_from_directory(\n",
    "        'dataset/New Plant Diseases Dataset(Augmented)/New Plant Diseases Dataset(Augmented)/train',\n",
    "        target_size=(img_height,img_width),\n",
    "        batch_size=batch_size,\n",
    "        class_mode=\"sparse\",\n",
    "#         save_to_dir=\"C:\\\\Code\\\\potato-disease-classification\\\\training\\\\AugmentedImages\"\n",
    ")"
   ]
  },
  {
   "cell_type": "code",
   "execution_count": 4,
   "id": "85238970",
   "metadata": {},
   "outputs": [
    {
     "name": "stdout",
     "output_type": "stream",
     "text": [
      "Found 17572 images belonging to 38 classes.\n"
     ]
    }
   ],
   "source": [
    "valid_datagen = tf.keras.preprocessing.image.ImageDataGenerator(rescale = 1./255)\n",
    "valid_generator =  valid_datagen.flow_from_directory(\n",
    "   'dataset/New Plant Diseases Dataset(Augmented)/New Plant Diseases Dataset(Augmented)/valid',\n",
    "    target_size= (img_height, img_width),\n",
    "    batch_size=batch_size,\n",
    "    class_mode=\"sparse\"\n",
    ")"
   ]
  },
  {
   "cell_type": "code",
   "execution_count": 11,
   "id": "276092c2",
   "metadata": {},
   "outputs": [],
   "source": [
    "import json\n",
    "with open('label.json','w') as f:\n",
    "    json.dump(train_generator.class_indices,f)"
   ]
  },
  {
   "cell_type": "code",
   "execution_count": 17,
   "id": "30641d96",
   "metadata": {},
   "outputs": [
    {
     "data": {
      "text/plain": [
       "'Apple___Apple_scab'"
      ]
     },
     "execution_count": 17,
     "metadata": {},
     "output_type": "execute_result"
    }
   ],
   "source": [
    "file = open('label.json','r')\n",
    "temp = json.loads(file.read())\n",
    "temp= list(temp.keys())\n",
    "temp[0]"
   ]
  },
  {
   "cell_type": "code",
   "execution_count": 5,
   "id": "ec95c92f",
   "metadata": {},
   "outputs": [
    {
     "data": {
      "text/plain": [
       "['Apple___Apple_scab',\n",
       " 'Apple___Black_rot',\n",
       " 'Apple___Cedar_apple_rust',\n",
       " 'Apple___healthy',\n",
       " 'Blueberry___healthy',\n",
       " 'Cherry_(including_sour)___Powdery_mildew',\n",
       " 'Cherry_(including_sour)___healthy',\n",
       " 'Corn_(maize)___Cercospora_leaf_spot Gray_leaf_spot',\n",
       " 'Corn_(maize)___Common_rust_',\n",
       " 'Corn_(maize)___Northern_Leaf_Blight',\n",
       " 'Corn_(maize)___healthy',\n",
       " 'Grape___Black_rot',\n",
       " 'Grape___Esca_(Black_Measles)',\n",
       " 'Grape___Leaf_blight_(Isariopsis_Leaf_Spot)',\n",
       " 'Grape___healthy',\n",
       " 'Orange___Haunglongbing_(Citrus_greening)',\n",
       " 'Peach___Bacterial_spot',\n",
       " 'Peach___healthy',\n",
       " 'Pepper,_bell___Bacterial_spot',\n",
       " 'Pepper,_bell___healthy',\n",
       " 'Potato___Early_blight',\n",
       " 'Potato___Late_blight',\n",
       " 'Potato___healthy',\n",
       " 'Raspberry___healthy',\n",
       " 'Soybean___healthy',\n",
       " 'Squash___Powdery_mildew',\n",
       " 'Strawberry___Leaf_scorch',\n",
       " 'Strawberry___healthy',\n",
       " 'Tomato___Bacterial_spot',\n",
       " 'Tomato___Early_blight',\n",
       " 'Tomato___Late_blight',\n",
       " 'Tomato___Leaf_Mold',\n",
       " 'Tomato___Septoria_leaf_spot',\n",
       " 'Tomato___Spider_mites Two-spotted_spider_mite',\n",
       " 'Tomato___Target_Spot',\n",
       " 'Tomato___Tomato_Yellow_Leaf_Curl_Virus',\n",
       " 'Tomato___Tomato_mosaic_virus',\n",
       " 'Tomato___healthy']"
      ]
     },
     "execution_count": 5,
     "metadata": {},
     "output_type": "execute_result"
    }
   ],
   "source": [
    "class_names = list(train_generator.class_indices.keys())\n",
    "class_names"
   ]
  },
  {
   "cell_type": "code",
   "execution_count": 6,
   "id": "5d266e25",
   "metadata": {},
   "outputs": [],
   "source": [
    "#training_ds = training_ds.cache().shuffle(1000).prefetch(buffer_size=tf.data.AUTOTUNE)\n",
    "#validation_ds = validation_ds.cache().shuffle(1000).prefetch(buffer_size=tf.data.AUTOTUNE)"
   ]
  },
  {
   "cell_type": "code",
   "execution_count": 7,
   "id": "5d4dea65",
   "metadata": {},
   "outputs": [
    {
     "name": "stderr",
     "output_type": "stream",
     "text": [
      "2023-04-09 19:38:37.144278: I tensorflow/core/platform/cpu_feature_guard.cc:142] This TensorFlow binary is optimized with oneAPI Deep Neural Network Library (oneDNN) to use the following CPU instructions in performance-critical operations:  SSE4.1 SSE4.2 AVX AVX2 FMA\n",
      "To enable them in other operations, rebuild TensorFlow with the appropriate compiler flags.\n",
      "2023-04-09 19:38:37.144846: I tensorflow/compiler/jit/xla_gpu_device.cc:99] Not creating XLA devices, tf_xla_enable_xla_devices not set\n",
      "2023-04-09 19:38:37.145029: I tensorflow/stream_executor/cuda/cuda_gpu_executor.cc:941] successful NUMA node read from SysFS had negative value (-1), but there must be at least one NUMA node, so returning NUMA node zero\n",
      "2023-04-09 19:38:37.145213: I tensorflow/core/common_runtime/gpu/gpu_device.cc:1720] Found device 0 with properties: \n",
      "pciBusID: 0000:01:00.0 name: NVIDIA GeForce GTX 1050 computeCapability: 6.1\n",
      "coreClock: 1.493GHz coreCount: 5 deviceMemorySize: 3.95GiB deviceMemoryBandwidth: 104.43GiB/s\n",
      "2023-04-09 19:38:37.145258: I tensorflow/stream_executor/platform/default/dso_loader.cc:49] Successfully opened dynamic library libcudart.so.10.1\n",
      "2023-04-09 19:38:37.145286: I tensorflow/stream_executor/platform/default/dso_loader.cc:49] Successfully opened dynamic library libcublas.so.10\n",
      "2023-04-09 19:38:37.145306: I tensorflow/stream_executor/platform/default/dso_loader.cc:49] Successfully opened dynamic library libcublasLt.so.10\n",
      "2023-04-09 19:38:37.145326: I tensorflow/stream_executor/platform/default/dso_loader.cc:49] Successfully opened dynamic library libcufft.so.10\n",
      "2023-04-09 19:38:37.145345: I tensorflow/stream_executor/platform/default/dso_loader.cc:49] Successfully opened dynamic library libcurand.so.10\n",
      "2023-04-09 19:38:37.145365: I tensorflow/stream_executor/platform/default/dso_loader.cc:49] Successfully opened dynamic library libcusolver.so.10\n",
      "2023-04-09 19:38:37.145384: I tensorflow/stream_executor/platform/default/dso_loader.cc:49] Successfully opened dynamic library libcusparse.so.10\n",
      "2023-04-09 19:38:37.145404: I tensorflow/stream_executor/platform/default/dso_loader.cc:49] Successfully opened dynamic library libcudnn.so.7\n",
      "2023-04-09 19:38:37.145485: I tensorflow/stream_executor/cuda/cuda_gpu_executor.cc:941] successful NUMA node read from SysFS had negative value (-1), but there must be at least one NUMA node, so returning NUMA node zero\n",
      "2023-04-09 19:38:37.145675: I tensorflow/stream_executor/cuda/cuda_gpu_executor.cc:941] successful NUMA node read from SysFS had negative value (-1), but there must be at least one NUMA node, so returning NUMA node zero\n",
      "2023-04-09 19:38:37.145824: I tensorflow/core/common_runtime/gpu/gpu_device.cc:1862] Adding visible gpu devices: 0\n",
      "2023-04-09 19:38:37.145864: I tensorflow/stream_executor/platform/default/dso_loader.cc:49] Successfully opened dynamic library libcudart.so.10.1\n",
      "2023-04-09 19:38:42.815053: I tensorflow/core/common_runtime/gpu/gpu_device.cc:1261] Device interconnect StreamExecutor with strength 1 edge matrix:\n",
      "2023-04-09 19:38:42.815082: I tensorflow/core/common_runtime/gpu/gpu_device.cc:1267]      0 \n",
      "2023-04-09 19:38:42.815089: I tensorflow/core/common_runtime/gpu/gpu_device.cc:1280] 0:   N \n",
      "2023-04-09 19:38:42.815264: I tensorflow/stream_executor/cuda/cuda_gpu_executor.cc:941] successful NUMA node read from SysFS had negative value (-1), but there must be at least one NUMA node, so returning NUMA node zero\n",
      "2023-04-09 19:38:42.815461: I tensorflow/stream_executor/cuda/cuda_gpu_executor.cc:941] successful NUMA node read from SysFS had negative value (-1), but there must be at least one NUMA node, so returning NUMA node zero\n",
      "2023-04-09 19:38:42.815612: I tensorflow/stream_executor/cuda/cuda_gpu_executor.cc:941] successful NUMA node read from SysFS had negative value (-1), but there must be at least one NUMA node, so returning NUMA node zero\n",
      "2023-04-09 19:38:42.815733: I tensorflow/core/common_runtime/gpu/gpu_device.cc:1406] Created TensorFlow device (/job:localhost/replica:0/task:0/device:GPU:0 with 3584 MB memory) -> physical GPU (device: 0, name: NVIDIA GeForce GTX 1050, pci bus id: 0000:01:00.0, compute capability: 6.1)\n"
     ]
    }
   ],
   "source": [
    "# Defining Cnn\n",
    "model = tf.keras.models.Sequential([\n",
    "    layers.Conv2D(32, 3, activation='relu',input_shape=(256,256,3)),\n",
    "    layers.Conv2D(32, 3, activation='relu'),\n",
    "    layers.MaxPooling2D(),\n",
    "    \n",
    "    layers.Conv2D(64, 3, activation='relu'),\n",
    "    layers.MaxPooling2D(),\n",
    "    \n",
    "    layers.Conv2D(128, 3, activation='relu'),\n",
    "    layers.MaxPooling2D(),\n",
    "\n",
    "    layers.Flatten(),\n",
    "    \n",
    "    layers.Dense(256, activation='relu'),\n",
    "    layers.Dropout(0.2),\n",
    "    \n",
    "    layers.Dense(128, activation='relu'),\n",
    "    layers.Dropout(0.2),\n",
    "\n",
    "    layers.Dense(len(class_names), activation= 'softmax')\n",
    "])"
   ]
  },
  {
   "cell_type": "code",
   "execution_count": 8,
   "id": "4f637251",
   "metadata": {},
   "outputs": [
    {
     "name": "stdout",
     "output_type": "stream",
     "text": [
      "Model: \"sequential\"\n",
      "_________________________________________________________________\n",
      "Layer (type)                 Output Shape              Param #   \n",
      "=================================================================\n",
      "conv2d (Conv2D)              (None, 254, 254, 32)      896       \n",
      "_________________________________________________________________\n",
      "conv2d_1 (Conv2D)            (None, 252, 252, 32)      9248      \n",
      "_________________________________________________________________\n",
      "max_pooling2d (MaxPooling2D) (None, 126, 126, 32)      0         \n",
      "_________________________________________________________________\n",
      "conv2d_2 (Conv2D)            (None, 124, 124, 64)      18496     \n",
      "_________________________________________________________________\n",
      "max_pooling2d_1 (MaxPooling2 (None, 62, 62, 64)        0         \n",
      "_________________________________________________________________\n",
      "conv2d_3 (Conv2D)            (None, 60, 60, 128)       73856     \n",
      "_________________________________________________________________\n",
      "max_pooling2d_2 (MaxPooling2 (None, 30, 30, 128)       0         \n",
      "_________________________________________________________________\n",
      "flatten (Flatten)            (None, 115200)            0         \n",
      "_________________________________________________________________\n",
      "dense (Dense)                (None, 256)               29491456  \n",
      "_________________________________________________________________\n",
      "dropout (Dropout)            (None, 256)               0         \n",
      "_________________________________________________________________\n",
      "dense_1 (Dense)              (None, 128)               32896     \n",
      "_________________________________________________________________\n",
      "dropout_1 (Dropout)          (None, 128)               0         \n",
      "_________________________________________________________________\n",
      "dense_2 (Dense)              (None, 38)                4902      \n",
      "=================================================================\n",
      "Total params: 29,631,750\n",
      "Trainable params: 29,631,750\n",
      "Non-trainable params: 0\n",
      "_________________________________________________________________\n"
     ]
    }
   ],
   "source": [
    "model.summary()"
   ]
  },
  {
   "cell_type": "code",
   "execution_count": 9,
   "id": "a047cbc9",
   "metadata": {},
   "outputs": [],
   "source": [
    "model.compile(optimizer='adam',loss='sparse_categorical_crossentropy', metrics=['accuracy'])"
   ]
  },
  {
   "cell_type": "code",
   "execution_count": 10,
   "id": "bb8d5525",
   "metadata": {},
   "outputs": [],
   "source": [
    "callbacks = tf.keras.callbacks.EarlyStopping(\n",
    "    monitor=\"val_loss\",\n",
    "    min_delta=0.00001,\n",
    "    patience=3,\n",
    "    verbose=1,\n",
    "    mode=\"auto\",\n",
    "    baseline=None,\n",
    "    restore_best_weights=False,\n",
    ")"
   ]
  },
  {
   "cell_type": "code",
   "execution_count": 11,
   "id": "7ffb2194",
   "metadata": {},
   "outputs": [
    {
     "name": "stderr",
     "output_type": "stream",
     "text": [
      "2023-04-09 19:38:50.172022: I tensorflow/compiler/mlir/mlir_graph_optimization_pass.cc:116] None of the MLIR optimization passes are enabled (registered 2)\n",
      "2023-04-09 19:38:50.172372: I tensorflow/core/platform/profile_utils/cpu_utils.cc:112] CPU Frequency: 1800500000 Hz\n"
     ]
    },
    {
     "name": "stdout",
     "output_type": "stream",
     "text": [
      "Epoch 1/20\n"
     ]
    },
    {
     "name": "stderr",
     "output_type": "stream",
     "text": [
      "2023-04-09 19:38:50.948216: I tensorflow/stream_executor/platform/default/dso_loader.cc:49] Successfully opened dynamic library libcublas.so.10\n",
      "2023-04-09 19:38:55.017385: I tensorflow/stream_executor/platform/default/dso_loader.cc:49] Successfully opened dynamic library libcudnn.so.7\n",
      "2023-04-09 19:39:02.245649: W tensorflow/stream_executor/gpu/asm_compiler.cc:63] Running ptxas --version returned 256\n",
      "2023-04-09 19:39:02.279287: W tensorflow/stream_executor/gpu/redzone_allocator.cc:314] Internal: ptxas exited with non-zero error code 256, output: \n",
      "Relying on driver to perform ptx compilation. \n",
      "Modify $PATH to customize ptxas location.\n",
      "This message will be only logged once.\n",
      "2023-04-09 19:39:03.189045: W tensorflow/core/common_runtime/bfc_allocator.cc:248] Allocator (GPU_0_bfc) ran out of memory trying to allocate 3.42GiB with freed_by_count=0. The caller indicates that this is not a failure, but may mean that there could be performance gains if more memory were available.\n",
      "2023-04-09 19:39:03.553999: W tensorflow/core/common_runtime/bfc_allocator.cc:248] Allocator (GPU_0_bfc) ran out of memory trying to allocate 2.20GiB with freed_by_count=0. The caller indicates that this is not a failure, but may mean that there could be performance gains if more memory were available.\n",
      "2023-04-09 19:39:07.097602: W tensorflow/core/common_runtime/bfc_allocator.cc:248] Allocator (GPU_0_bfc) ran out of memory trying to allocate 1.31GiB with freed_by_count=0. The caller indicates that this is not a failure, but may mean that there could be performance gains if more memory were available.\n",
      "2023-04-09 19:39:07.300313: W tensorflow/core/common_runtime/bfc_allocator.cc:248] Allocator (GPU_0_bfc) ran out of memory trying to allocate 2.27GiB with freed_by_count=0. The caller indicates that this is not a failure, but may mean that there could be performance gains if more memory were available.\n",
      "2023-04-09 19:39:07.733574: W tensorflow/core/common_runtime/bfc_allocator.cc:248] Allocator (GPU_0_bfc) ran out of memory trying to allocate 1.97GiB with freed_by_count=0. The caller indicates that this is not a failure, but may mean that there could be performance gains if more memory were available.\n",
      "2023-04-09 19:39:07.733611: W tensorflow/core/common_runtime/bfc_allocator.cc:248] Allocator (GPU_0_bfc) ran out of memory trying to allocate 1.72GiB with freed_by_count=0. The caller indicates that this is not a failure, but may mean that there could be performance gains if more memory were available.\n"
     ]
    },
    {
     "name": "stdout",
     "output_type": "stream",
     "text": [
      " 724/1406 [==============>...............] - ETA: 16:24 - loss: 2.7531 - accuracy: 0.2451"
     ]
    },
    {
     "name": "stderr",
     "output_type": "stream",
     "text": [
      "2023-04-09 19:56:34.573802: W tensorflow/core/common_runtime/bfc_allocator.cc:248] Allocator (GPU_0_bfc) ran out of memory trying to allocate 3.08GiB with freed_by_count=0. The caller indicates that this is not a failure, but may mean that there could be performance gains if more memory were available.\n",
      "2023-04-09 19:56:38.848033: W tensorflow/core/common_runtime/bfc_allocator.cc:248] Allocator (GPU_0_bfc) ran out of memory trying to allocate 1.23GiB with freed_by_count=0. The caller indicates that this is not a failure, but may mean that there could be performance gains if more memory were available.\n",
      "2023-04-09 19:56:39.078922: W tensorflow/core/common_runtime/bfc_allocator.cc:248] Allocator (GPU_0_bfc) ran out of memory trying to allocate 1.70GiB with freed_by_count=0. The caller indicates that this is not a failure, but may mean that there could be performance gains if more memory were available.\n",
      "2023-04-09 19:56:39.571112: W tensorflow/core/common_runtime/bfc_allocator.cc:248] Allocator (GPU_0_bfc) ran out of memory trying to allocate 1.77GiB with freed_by_count=0. The caller indicates that this is not a failure, but may mean that there could be performance gains if more memory were available.\n"
     ]
    },
    {
     "name": "stdout",
     "output_type": "stream",
     "text": [
      "1406/1406 [==============================] - 2255s 2s/step - loss: 2.2809 - accuracy: 0.3607 - val_loss: 0.5808 - val_accuracy: 0.8137\n",
      "Epoch 2/20\n",
      "1406/1406 [==============================] - 1224s 870ms/step - loss: 0.7203 - accuracy: 0.7741 - val_loss: 0.3458 - val_accuracy: 0.8864\n",
      "Epoch 3/20\n",
      "1406/1406 [==============================] - 1248s 887ms/step - loss: 0.4691 - accuracy: 0.8512 - val_loss: 0.2617 - val_accuracy: 0.9149\n",
      "Epoch 4/20\n",
      "1406/1406 [==============================] - 1244s 885ms/step - loss: 0.3577 - accuracy: 0.8869 - val_loss: 0.4662 - val_accuracy: 0.8572\n",
      "Epoch 5/20\n",
      "1406/1406 [==============================] - 1266s 900ms/step - loss: 0.3082 - accuracy: 0.9016 - val_loss: 0.1931 - val_accuracy: 0.9369\n",
      "Epoch 6/20\n",
      "1406/1406 [==============================] - 1406s 1s/step - loss: 0.2674 - accuracy: 0.9154 - val_loss: 0.1981 - val_accuracy: 0.9351\n",
      "Epoch 7/20\n",
      "1406/1406 [==============================] - 1469s 1s/step - loss: 0.2414 - accuracy: 0.9232 - val_loss: 0.2365 - val_accuracy: 0.9242\n",
      "Epoch 8/20\n",
      "1406/1406 [==============================] - 2174s 2s/step - loss: 0.2294 - accuracy: 0.9286 - val_loss: 0.1980 - val_accuracy: 0.9382\n",
      "Epoch 00008: early stopping\n"
     ]
    }
   ],
   "source": [
    "# lets train our CNN\n",
    "history = model.fit(train_generator,validation_data=valid_generator,callbacks=callbacks,epochs = 20)"
   ]
  },
  {
   "cell_type": "code",
   "execution_count": 13,
   "id": "81d6379e",
   "metadata": {},
   "outputs": [
    {
     "ename": "ValueError",
     "evalue": "Failed to find data adapter that can handle input: <class 'NoneType'>, <class 'NoneType'>",
     "output_type": "error",
     "traceback": [
      "\u001b[0;31m---------------------------------------------------------------------------\u001b[0m",
      "\u001b[0;31mValueError\u001b[0m                                Traceback (most recent call last)",
      "Cell \u001b[0;32mIn[13], line 1\u001b[0m\n\u001b[0;32m----> 1\u001b[0m ok \u001b[38;5;241m=\u001b[39m \u001b[43mmodel\u001b[49m\u001b[38;5;241;43m.\u001b[39;49m\u001b[43mevaluate\u001b[49m\u001b[43m(\u001b[49m\u001b[43m)\u001b[49m\n\u001b[1;32m      2\u001b[0m ok\n",
      "File \u001b[0;32m~/anaconda3/envs/env/lib/python3.9/site-packages/tensorflow/python/keras/engine/training.py:1354\u001b[0m, in \u001b[0;36mModel.evaluate\u001b[0;34m(self, x, y, batch_size, verbose, sample_weight, steps, callbacks, max_queue_size, workers, use_multiprocessing, return_dict)\u001b[0m\n\u001b[1;32m   1351\u001b[0m   data_handler \u001b[38;5;241m=\u001b[39m \u001b[38;5;28mself\u001b[39m\u001b[38;5;241m.\u001b[39m_eval_data_handler\n\u001b[1;32m   1352\u001b[0m \u001b[38;5;28;01melse\u001b[39;00m:\n\u001b[1;32m   1353\u001b[0m   \u001b[38;5;66;03m# Creates a `tf.data.Dataset` and handles batch and epoch iteration.\u001b[39;00m\n\u001b[0;32m-> 1354\u001b[0m   data_handler \u001b[38;5;241m=\u001b[39m \u001b[43mdata_adapter\u001b[49m\u001b[38;5;241;43m.\u001b[39;49m\u001b[43mDataHandler\u001b[49m\u001b[43m(\u001b[49m\n\u001b[1;32m   1355\u001b[0m \u001b[43m      \u001b[49m\u001b[43mx\u001b[49m\u001b[38;5;241;43m=\u001b[39;49m\u001b[43mx\u001b[49m\u001b[43m,\u001b[49m\n\u001b[1;32m   1356\u001b[0m \u001b[43m      \u001b[49m\u001b[43my\u001b[49m\u001b[38;5;241;43m=\u001b[39;49m\u001b[43my\u001b[49m\u001b[43m,\u001b[49m\n\u001b[1;32m   1357\u001b[0m \u001b[43m      \u001b[49m\u001b[43msample_weight\u001b[49m\u001b[38;5;241;43m=\u001b[39;49m\u001b[43msample_weight\u001b[49m\u001b[43m,\u001b[49m\n\u001b[1;32m   1358\u001b[0m \u001b[43m      \u001b[49m\u001b[43mbatch_size\u001b[49m\u001b[38;5;241;43m=\u001b[39;49m\u001b[43mbatch_size\u001b[49m\u001b[43m,\u001b[49m\n\u001b[1;32m   1359\u001b[0m \u001b[43m      \u001b[49m\u001b[43msteps_per_epoch\u001b[49m\u001b[38;5;241;43m=\u001b[39;49m\u001b[43msteps\u001b[49m\u001b[43m,\u001b[49m\n\u001b[1;32m   1360\u001b[0m \u001b[43m      \u001b[49m\u001b[43minitial_epoch\u001b[49m\u001b[38;5;241;43m=\u001b[39;49m\u001b[38;5;241;43m0\u001b[39;49m\u001b[43m,\u001b[49m\n\u001b[1;32m   1361\u001b[0m \u001b[43m      \u001b[49m\u001b[43mepochs\u001b[49m\u001b[38;5;241;43m=\u001b[39;49m\u001b[38;5;241;43m1\u001b[39;49m\u001b[43m,\u001b[49m\n\u001b[1;32m   1362\u001b[0m \u001b[43m      \u001b[49m\u001b[43mmax_queue_size\u001b[49m\u001b[38;5;241;43m=\u001b[39;49m\u001b[43mmax_queue_size\u001b[49m\u001b[43m,\u001b[49m\n\u001b[1;32m   1363\u001b[0m \u001b[43m      \u001b[49m\u001b[43mworkers\u001b[49m\u001b[38;5;241;43m=\u001b[39;49m\u001b[43mworkers\u001b[49m\u001b[43m,\u001b[49m\n\u001b[1;32m   1364\u001b[0m \u001b[43m      \u001b[49m\u001b[43muse_multiprocessing\u001b[49m\u001b[38;5;241;43m=\u001b[39;49m\u001b[43muse_multiprocessing\u001b[49m\u001b[43m,\u001b[49m\n\u001b[1;32m   1365\u001b[0m \u001b[43m      \u001b[49m\u001b[43mmodel\u001b[49m\u001b[38;5;241;43m=\u001b[39;49m\u001b[38;5;28;43mself\u001b[39;49m\u001b[43m,\u001b[49m\n\u001b[1;32m   1366\u001b[0m \u001b[43m      \u001b[49m\u001b[43msteps_per_execution\u001b[49m\u001b[38;5;241;43m=\u001b[39;49m\u001b[38;5;28;43mself\u001b[39;49m\u001b[38;5;241;43m.\u001b[39;49m\u001b[43m_steps_per_execution\u001b[49m\u001b[43m)\u001b[49m\n\u001b[1;32m   1368\u001b[0m \u001b[38;5;66;03m# Container that configures and calls `tf.keras.Callback`s.\u001b[39;00m\n\u001b[1;32m   1369\u001b[0m \u001b[38;5;28;01mif\u001b[39;00m \u001b[38;5;129;01mnot\u001b[39;00m \u001b[38;5;28misinstance\u001b[39m(callbacks, callbacks_module\u001b[38;5;241m.\u001b[39mCallbackList):\n",
      "File \u001b[0;32m~/anaconda3/envs/env/lib/python3.9/site-packages/tensorflow/python/keras/engine/data_adapter.py:1099\u001b[0m, in \u001b[0;36mDataHandler.__init__\u001b[0;34m(self, x, y, sample_weight, batch_size, steps_per_epoch, initial_epoch, epochs, shuffle, class_weight, max_queue_size, workers, use_multiprocessing, model, steps_per_execution)\u001b[0m\n\u001b[1;32m   1096\u001b[0m   \u001b[38;5;28mself\u001b[39m\u001b[38;5;241m.\u001b[39m_steps_per_execution \u001b[38;5;241m=\u001b[39m steps_per_execution\n\u001b[1;32m   1097\u001b[0m   \u001b[38;5;28mself\u001b[39m\u001b[38;5;241m.\u001b[39m_steps_per_execution_value \u001b[38;5;241m=\u001b[39m steps_per_execution\u001b[38;5;241m.\u001b[39mnumpy()\u001b[38;5;241m.\u001b[39mitem()\n\u001b[0;32m-> 1099\u001b[0m adapter_cls \u001b[38;5;241m=\u001b[39m \u001b[43mselect_data_adapter\u001b[49m\u001b[43m(\u001b[49m\u001b[43mx\u001b[49m\u001b[43m,\u001b[49m\u001b[43m \u001b[49m\u001b[43my\u001b[49m\u001b[43m)\u001b[49m\n\u001b[1;32m   1100\u001b[0m \u001b[38;5;28mself\u001b[39m\u001b[38;5;241m.\u001b[39m_adapter \u001b[38;5;241m=\u001b[39m adapter_cls(\n\u001b[1;32m   1101\u001b[0m     x,\n\u001b[1;32m   1102\u001b[0m     y,\n\u001b[0;32m   (...)\u001b[0m\n\u001b[1;32m   1111\u001b[0m     distribution_strategy\u001b[38;5;241m=\u001b[39mds_context\u001b[38;5;241m.\u001b[39mget_strategy(),\n\u001b[1;32m   1112\u001b[0m     model\u001b[38;5;241m=\u001b[39mmodel)\n\u001b[1;32m   1114\u001b[0m strategy \u001b[38;5;241m=\u001b[39m ds_context\u001b[38;5;241m.\u001b[39mget_strategy()\n",
      "File \u001b[0;32m~/anaconda3/envs/env/lib/python3.9/site-packages/tensorflow/python/keras/engine/data_adapter.py:961\u001b[0m, in \u001b[0;36mselect_data_adapter\u001b[0;34m(x, y)\u001b[0m\n\u001b[1;32m    958\u001b[0m adapter_cls \u001b[38;5;241m=\u001b[39m [\u001b[38;5;28mcls\u001b[39m \u001b[38;5;28;01mfor\u001b[39;00m \u001b[38;5;28mcls\u001b[39m \u001b[38;5;129;01min\u001b[39;00m ALL_ADAPTER_CLS \u001b[38;5;28;01mif\u001b[39;00m \u001b[38;5;28mcls\u001b[39m\u001b[38;5;241m.\u001b[39mcan_handle(x, y)]\n\u001b[1;32m    959\u001b[0m \u001b[38;5;28;01mif\u001b[39;00m \u001b[38;5;129;01mnot\u001b[39;00m adapter_cls:\n\u001b[1;32m    960\u001b[0m   \u001b[38;5;66;03m# TODO(scottzhu): This should be a less implementation-specific error.\u001b[39;00m\n\u001b[0;32m--> 961\u001b[0m   \u001b[38;5;28;01mraise\u001b[39;00m \u001b[38;5;167;01mValueError\u001b[39;00m(\n\u001b[1;32m    962\u001b[0m       \u001b[38;5;124m\"\u001b[39m\u001b[38;5;124mFailed to find data adapter that can handle \u001b[39m\u001b[38;5;124m\"\u001b[39m\n\u001b[1;32m    963\u001b[0m       \u001b[38;5;124m\"\u001b[39m\u001b[38;5;124minput: \u001b[39m\u001b[38;5;132;01m{}\u001b[39;00m\u001b[38;5;124m, \u001b[39m\u001b[38;5;132;01m{}\u001b[39;00m\u001b[38;5;124m\"\u001b[39m\u001b[38;5;241m.\u001b[39mformat(\n\u001b[1;32m    964\u001b[0m           _type_name(x), _type_name(y)))\n\u001b[1;32m    965\u001b[0m \u001b[38;5;28;01melif\u001b[39;00m \u001b[38;5;28mlen\u001b[39m(adapter_cls) \u001b[38;5;241m>\u001b[39m \u001b[38;5;241m1\u001b[39m:\n\u001b[1;32m    966\u001b[0m   \u001b[38;5;28;01mraise\u001b[39;00m \u001b[38;5;167;01mRuntimeError\u001b[39;00m(\n\u001b[1;32m    967\u001b[0m       \u001b[38;5;124m\"\u001b[39m\u001b[38;5;124mData adapters should be mutually exclusive for \u001b[39m\u001b[38;5;124m\"\u001b[39m\n\u001b[1;32m    968\u001b[0m       \u001b[38;5;124m\"\u001b[39m\u001b[38;5;124mhandling inputs. Found multiple adapters \u001b[39m\u001b[38;5;132;01m{}\u001b[39;00m\u001b[38;5;124m to handle \u001b[39m\u001b[38;5;124m\"\u001b[39m\n\u001b[1;32m    969\u001b[0m       \u001b[38;5;124m\"\u001b[39m\u001b[38;5;124minput: \u001b[39m\u001b[38;5;132;01m{}\u001b[39;00m\u001b[38;5;124m, \u001b[39m\u001b[38;5;132;01m{}\u001b[39;00m\u001b[38;5;124m\"\u001b[39m\u001b[38;5;241m.\u001b[39mformat(\n\u001b[1;32m    970\u001b[0m           adapter_cls, _type_name(x), _type_name(y)))\n",
      "\u001b[0;31mValueError\u001b[0m: Failed to find data adapter that can handle input: <class 'NoneType'>, <class 'NoneType'>"
     ]
    }
   ],
   "source": [
    "ok = model.\n",
    "ok"
   ]
  },
  {
   "cell_type": "code",
   "execution_count": 31,
   "id": "ed5f804f",
   "metadata": {},
   "outputs": [],
   "source": [
    "x,y = next(valid_generator)"
   ]
  },
  {
   "cell_type": "code",
   "execution_count": 32,
   "id": "9292cde3",
   "metadata": {},
   "outputs": [
    {
     "data": {
      "text/plain": [
       "array([14, 10, 16,  3, 21,  4, 37, 20, 27,  8, 20, 36, 12, 23, 22, 36, 11,\n",
       "       28, 17, 10, 26, 11,  5, 36, 36, 32, 33, 29, 33, 24,  7, 13,  4, 22,\n",
       "       32,  2, 29,  2, 37,  7, 18, 33,  1, 30, 11, 12,  9, 27, 21,  0])"
      ]
     },
     "execution_count": 32,
     "metadata": {},
     "output_type": "execute_result"
    }
   ],
   "source": [
    "np.argmax(model.predict(x),axis=1)"
   ]
  },
  {
   "cell_type": "code",
   "execution_count": 33,
   "id": "60c0104d",
   "metadata": {},
   "outputs": [
    {
     "data": {
      "text/plain": [
       "array([14., 10., 16.,  3., 21.,  4., 33., 20., 27.,  8., 20., 36., 12.,\n",
       "       23., 22., 36., 11., 28., 17., 10., 26., 11.,  5., 36., 36., 32.,\n",
       "       33., 29., 33., 24.,  7., 13.,  4., 22., 32.,  2., 29.,  2., 37.,\n",
       "        7., 18., 33.,  1., 30., 11., 12.,  9., 27., 21.,  0.],\n",
       "      dtype=float32)"
      ]
     },
     "execution_count": 33,
     "metadata": {},
     "output_type": "execute_result"
    }
   ],
   "source": [
    "y"
   ]
  },
  {
   "cell_type": "code",
   "execution_count": null,
   "id": "945051b8",
   "metadata": {},
   "outputs": [],
   "source": []
  },
  {
   "cell_type": "code",
   "execution_count": null,
   "id": "d1d5ba4b",
   "metadata": {},
   "outputs": [],
   "source": []
  },
  {
   "cell_type": "code",
   "execution_count": null,
   "id": "8519d336",
   "metadata": {},
   "outputs": [],
   "source": []
  },
  {
   "cell_type": "code",
   "execution_count": null,
   "id": "c9d1ce11",
   "metadata": {},
   "outputs": [],
   "source": []
  },
  {
   "cell_type": "code",
   "execution_count": null,
   "id": "229353ee",
   "metadata": {},
   "outputs": [],
   "source": []
  },
  {
   "cell_type": "code",
   "execution_count": 21,
   "id": "7c236109",
   "metadata": {},
   "outputs": [
    {
     "ename": "ValueError",
     "evalue": "too many values to unpack (expected 2)",
     "output_type": "error",
     "traceback": [
      "\u001b[0;31m---------------------------------------------------------------------------\u001b[0m",
      "\u001b[0;31mValueError\u001b[0m                                Traceback (most recent call last)",
      "Cell \u001b[0;32mIn[21], line 3\u001b[0m\n\u001b[1;32m      1\u001b[0m AccuracyVector \u001b[38;5;241m=\u001b[39m []\n\u001b[1;32m      2\u001b[0m plt\u001b[38;5;241m.\u001b[39mfigure(figsize\u001b[38;5;241m=\u001b[39m(\u001b[38;5;241m30\u001b[39m, \u001b[38;5;241m30\u001b[39m))\n\u001b[0;32m----> 3\u001b[0m \u001b[38;5;28;01mfor\u001b[39;00m images, labels \u001b[38;5;129;01min\u001b[39;00m \u001b[38;5;28mnext\u001b[39m(valid_generator):\n\u001b[1;32m      4\u001b[0m     predictions \u001b[38;5;241m=\u001b[39m model\u001b[38;5;241m.\u001b[39mpredict(images)\n\u001b[1;32m      5\u001b[0m     predlabel \u001b[38;5;241m=\u001b[39m []\n",
      "\u001b[0;31mValueError\u001b[0m: too many values to unpack (expected 2)"
     ]
    },
    {
     "data": {
      "text/plain": [
       "<Figure size 3000x3000 with 0 Axes>"
      ]
     },
     "metadata": {},
     "output_type": "display_data"
    }
   ],
   "source": [
    "AccuracyVector = []\n",
    "plt.figure(figsize=(30, 30))\n",
    "for images, labels in next(valid_generator):\n",
    "    predictions = model.predict(images)\n",
    "    predlabel = []\n",
    "    prdlbl = []\n",
    "    \n",
    "    for mem in predictions:\n",
    "        predlabel.append(class_names[np.argmax(mem)])\n",
    "        prdlbl.append(np.argmax(mem))\n",
    "    \n",
    "    AccuracyVector = np.array(prdlbl) == labels\n",
    "    for i in range(40):\n",
    "        ax = plt.subplot(10, 4, i + 1)\n",
    "        plt.imshow(images[i].numpy().astype(\"uint8\"))\n",
    "        plt.title('Pred: '+ predlabel[i]+' actl:'+class_names[labels[i]])\n",
    "        plt.axis('off')\n",
    "        plt.grid(True)"
   ]
  },
  {
   "cell_type": "code",
   "execution_count": 17,
   "id": "b8f781f1",
   "metadata": {},
   "outputs": [
    {
     "name": "stderr",
     "output_type": "stream",
     "text": [
      "2023-04-08 17:00:05.525008: I tensorflow/core/kernels/data/shuffle_dataset_op.cc:177] Filling up shuffle buffer (this may take a while): 677 of 800\n",
      "2023-04-08 17:00:07.202953: I tensorflow/core/kernels/data/shuffle_dataset_op.cc:230] Shuffle buffer filled.\n"
     ]
    }
   ],
   "source": [
    "for images, labels in validation_ds.take(1):\n",
    "    predictions = model.predict(images)"
   ]
  },
  {
   "cell_type": "code",
   "execution_count": 33,
   "id": "c2c29d91",
   "metadata": {},
   "outputs": [
    {
     "name": "stdout",
     "output_type": "stream",
     "text": [
      "[100.        99.92011   99.9995    99.99672   95.1691   100.\n",
      "  99.78005   99.9997    99.98665   99.96093  100.        86.755684\n",
      " 100.        99.99993   99.98364   59.693413  99.990555  99.999985\n",
      "  65.33012  100.        99.99776   99.999916  63.607067  99.982254\n",
      " 100.        99.554214  99.99988   99.970825  99.897514  93.72962\n",
      "  99.14273   99.98228   99.71222   58.74198   97.14632   99.29327\n",
      " 100.        96.243835  99.99701   99.999985 100.       100.\n",
      "  95.15707   44.151955  99.99969  100.        74.88902   99.99971\n",
      "  99.98305  100.       100.        78.52572  100.        99.9996\n",
      "  99.29755   99.99988   99.91606  100.       100.        99.99907\n",
      " 100.        99.995735  92.51287   99.62885   99.997696  99.94324\n",
      "  87.902824  58.91414  100.        99.6412    79.764725  99.9975\n",
      "  99.99998   99.98728   55.624752  99.99958   99.997154  99.55522\n",
      "  99.99894   99.99557   99.99945   96.16217   99.18517   99.99936\n",
      "  96.70523  100.        99.999916  99.99994   99.999985  99.99987\n",
      "  99.99996   59.402645  99.99998   99.999725 100.        99.99985\n",
      "  69.292     99.15645   99.9511   100.      ]\n"
     ]
    }
   ],
   "source": [
    "for x,y in validation_ds.take(1):\n",
    "    print(np.max(model.predict(x),axis=1)*100)"
   ]
  },
  {
   "cell_type": "code",
   "execution_count": 41,
   "id": "ccd2f441",
   "metadata": {},
   "outputs": [],
   "source": [
    "from tensorflow.keras.models import load_model\n",
    "import cv2 as cv\n",
    "model = load_model('model2.h5')"
   ]
  },
  {
   "cell_type": "code",
   "execution_count": 42,
   "id": "5b2672a8",
   "metadata": {},
   "outputs": [
    {
     "name": "stdout",
     "output_type": "stream",
     "text": [
      "actual :AppleCedarRust1.JPG Pred : Pepper,_bell___healthy\n",
      "accuracy :  99.00118708610535\n",
      "actual :AppleCedarRust2.JPG Pred : Cherry_(including_sour)___Powdery_mildew\n",
      "accuracy :  78.98526787757874\n",
      "actual :AppleCedarRust3.JPG Pred : Tomato___healthy\n",
      "accuracy :  45.14709711074829\n",
      "actual :AppleCedarRust4.JPG Pred : Tomato___healthy\n",
      "accuracy :  98.34774136543274\n",
      "actual :AppleScab1.JPG Pred : Pepper,_bell___healthy\n",
      "accuracy :  51.10576152801514\n",
      "actual :AppleScab2.JPG Pred : Orange___Haunglongbing_(Citrus_greening)\n",
      "accuracy :  99.99611377716064\n",
      "actual :AppleScab3.JPG Pred : Potato___healthy\n",
      "accuracy :  44.447773694992065\n",
      "actual :CornCommonRust1.JPG Pred : Corn_(maize)___Common_rust_\n",
      "accuracy :  99.97511506080627\n",
      "actual :CornCommonRust2.JPG Pred : Potato___healthy\n",
      "accuracy :  92.46914982795715\n",
      "actual :CornCommonRust3.JPG Pred : Corn_(maize)___Common_rust_\n",
      "accuracy :  99.99313354492188\n",
      "actual :PotatoEarlyBlight1.JPG Pred : Potato___healthy\n",
      "accuracy :  75.19046068191528\n",
      "actual :PotatoEarlyBlight2.JPG Pred : Potato___healthy\n",
      "accuracy :  99.9998688697815\n",
      "actual :PotatoEarlyBlight3.JPG Pred : Potato___Early_blight\n",
      "accuracy :  76.87727808952332\n",
      "actual :PotatoEarlyBlight4.JPG Pred : Potato___healthy\n",
      "accuracy :  100.0\n",
      "actual :PotatoEarlyBlight5.JPG Pred : Pepper,_bell___healthy\n",
      "accuracy :  95.44424414634705\n",
      "actual :PotatoHealthy1.JPG Pred : Pepper,_bell___healthy\n",
      "accuracy :  86.21025681495667\n",
      "actual :PotatoHealthy2.JPG Pred : Pepper,_bell___healthy\n",
      "accuracy :  99.27746057510376\n",
      "actual :TomatoEarlyBlight1.JPG Pred : Cherry_(including_sour)___Powdery_mildew\n",
      "accuracy :  57.189059257507324\n",
      "actual :TomatoEarlyBlight2.JPG Pred : Cherry_(including_sour)___Powdery_mildew\n",
      "accuracy :  51.47244334220886\n",
      "actual :TomatoEarlyBlight3.JPG Pred : Tomato___Leaf_Mold\n",
      "accuracy :  96.099454164505\n",
      "actual :TomatoEarlyBlight4.JPG Pred : Tomato___Early_blight\n",
      "accuracy :  52.33368277549744\n",
      "actual :TomatoEarlyBlight5.JPG Pred : Tomato___Early_blight\n",
      "accuracy :  93.34542751312256\n",
      "actual :TomatoEarlyBlight6.JPG Pred : Tomato___Leaf_Mold\n",
      "accuracy :  85.51217913627625\n",
      "actual :TomatoHealthy1.JPG Pred : Tomato___healthy\n",
      "accuracy :  53.74767184257507\n",
      "actual :TomatoHealthy2.JPG Pred : Tomato___healthy\n",
      "accuracy :  99.89377856254578\n",
      "actual :TomatoHealthy3.JPG Pred : Tomato___Tomato_mosaic_virus\n",
      "accuracy :  75.6874680519104\n",
      "actual :TomatoHealthy4.JPG Pred : Tomato___Tomato_mosaic_virus\n",
      "accuracy :  86.82314157485962\n",
      "actual :TomatoYellowCurlVirus1.JPG Pred : Tomato___Leaf_Mold\n",
      "accuracy :  69.24989819526672\n",
      "actual :TomatoYellowCurlVirus2.JPG Pred : Tomato___Leaf_Mold\n",
      "accuracy :  52.4456262588501\n",
      "actual :TomatoYellowCurlVirus3.JPG Pred : Tomato___Leaf_Mold\n",
      "accuracy :  95.1839029788971\n",
      "actual :TomatoYellowCurlVirus4.JPG Pred : Tomato___Tomato_Yellow_Leaf_Curl_Virus\n",
      "accuracy :  91.4171814918518\n",
      "actual :TomatoYellowCurlVirus5.JPG Pred : Tomato___Late_blight\n",
      "accuracy :  99.30400848388672\n",
      "actual :TomatoYellowCurlVirus6.JPG Pred : Tomato___Late_blight\n",
      "accuracy :  77.02797055244446\n"
     ]
    }
   ],
   "source": [
    "path = 'dataset/test/test'\n",
    "for i in os.listdir(path):\n",
    "    img = cv.imread(os.path.join(path,i))\n",
    "    img = img/255\n",
    "    img = cv.resize(img,(256,256))\n",
    "    img = img.reshape(1,256,256,3)\n",
    "    print(\"actual :\"+ i + \" Pred : \" + class_names[np.argmax(model.predict(img))])\n",
    "    print(\"accuracy : \",np.max(model.predict(img)) * 100)"
   ]
  },
  {
   "cell_type": "code",
   "execution_count": 60,
   "id": "e8c9513a",
   "metadata": {
    "scrolled": true
   },
   "outputs": [
    {
     "data": {
      "text/plain": [
       "['AppleCedarRust1.JPG',\n",
       " 'AppleCedarRust2.JPG',\n",
       " 'AppleCedarRust3.JPG',\n",
       " 'AppleCedarRust4.JPG',\n",
       " 'AppleScab1.JPG',\n",
       " 'AppleScab2.JPG',\n",
       " 'AppleScab3.JPG',\n",
       " 'CornCommonRust1.JPG',\n",
       " 'CornCommonRust2.JPG',\n",
       " 'CornCommonRust3.JPG',\n",
       " 'PotatoEarlyBlight1.JPG',\n",
       " 'PotatoEarlyBlight2.JPG',\n",
       " 'PotatoEarlyBlight3.JPG',\n",
       " 'PotatoEarlyBlight4.JPG',\n",
       " 'PotatoEarlyBlight5.JPG',\n",
       " 'PotatoHealthy1.JPG',\n",
       " 'PotatoHealthy2.JPG',\n",
       " 'TomatoEarlyBlight1.JPG',\n",
       " 'TomatoEarlyBlight2.JPG',\n",
       " 'TomatoEarlyBlight3.JPG',\n",
       " 'TomatoEarlyBlight4.JPG',\n",
       " 'TomatoEarlyBlight5.JPG',\n",
       " 'TomatoEarlyBlight6.JPG',\n",
       " 'TomatoHealthy1.JPG',\n",
       " 'TomatoHealthy2.JPG',\n",
       " 'TomatoHealthy3.JPG',\n",
       " 'TomatoHealthy4.JPG',\n",
       " 'TomatoYellowCurlVirus1.JPG',\n",
       " 'TomatoYellowCurlVirus2.JPG',\n",
       " 'TomatoYellowCurlVirus3.JPG',\n",
       " 'TomatoYellowCurlVirus4.JPG',\n",
       " 'TomatoYellowCurlVirus5.JPG',\n",
       " 'TomatoYellowCurlVirus6.JPG']"
      ]
     },
     "execution_count": 60,
     "metadata": {},
     "output_type": "execute_result"
    }
   ],
   "source": [
    "os.listdir(path)"
   ]
  },
  {
   "cell_type": "code",
   "execution_count": 36,
   "id": "a1c9ea68",
   "metadata": {},
   "outputs": [],
   "source": [
    "img = cv.imread(os.path.join(path,'AppleCedarRust1.JPG'))\n",
    "img = cv.resize(img,(256,250))"
   ]
  },
  {
   "cell_type": "code",
   "execution_count": 40,
   "id": "57c674a0",
   "metadata": {},
   "outputs": [],
   "source": [
    "model.save('model2.h5')"
   ]
  },
  {
   "cell_type": "code",
   "execution_count": null,
   "id": "1e0039e9",
   "metadata": {},
   "outputs": [],
   "source": []
  }
 ],
 "metadata": {
  "kernelspec": {
   "display_name": "Python 3 (ipykernel)",
   "language": "python",
   "name": "python3"
  },
  "language_info": {
   "codemirror_mode": {
    "name": "ipython",
    "version": 3
   },
   "file_extension": ".py",
   "mimetype": "text/x-python",
   "name": "python",
   "nbconvert_exporter": "python",
   "pygments_lexer": "ipython3",
   "version": "3.9.16"
  }
 },
 "nbformat": 4,
 "nbformat_minor": 5
}
