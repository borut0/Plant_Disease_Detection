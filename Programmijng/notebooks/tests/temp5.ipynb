{
 "cells": [
  {
   "cell_type": "code",
   "execution_count": 1,
   "id": "bc8f4f26",
   "metadata": {},
   "outputs": [
    {
     "name": "stderr",
     "output_type": "stream",
     "text": [
      "2023-04-11 10:33:25.607652: I tensorflow/stream_executor/platform/default/dso_loader.cc:49] Successfully opened dynamic library libcudart.so.10.1\n"
     ]
    },
    {
     "name": "stdout",
     "output_type": "stream",
     "text": [
      "1\n"
     ]
    },
    {
     "name": "stderr",
     "output_type": "stream",
     "text": [
      "2023-04-11 10:33:26.790283: I tensorflow/compiler/jit/xla_cpu_device.cc:41] Not creating XLA devices, tf_xla_enable_xla_devices not set\n",
      "2023-04-11 10:33:26.790985: I tensorflow/stream_executor/platform/default/dso_loader.cc:49] Successfully opened dynamic library libcuda.so.1\n",
      "2023-04-11 10:33:26.822232: I tensorflow/stream_executor/cuda/cuda_gpu_executor.cc:941] successful NUMA node read from SysFS had negative value (-1), but there must be at least one NUMA node, so returning NUMA node zero\n",
      "2023-04-11 10:33:26.822395: I tensorflow/core/common_runtime/gpu/gpu_device.cc:1720] Found device 0 with properties: \n",
      "pciBusID: 0000:01:00.0 name: NVIDIA GeForce GTX 1050 computeCapability: 6.1\n",
      "coreClock: 1.493GHz coreCount: 5 deviceMemorySize: 3.95GiB deviceMemoryBandwidth: 104.43GiB/s\n",
      "2023-04-11 10:33:26.822417: I tensorflow/stream_executor/platform/default/dso_loader.cc:49] Successfully opened dynamic library libcudart.so.10.1\n",
      "2023-04-11 10:33:26.824078: I tensorflow/stream_executor/platform/default/dso_loader.cc:49] Successfully opened dynamic library libcublas.so.10\n",
      "2023-04-11 10:33:26.824127: I tensorflow/stream_executor/platform/default/dso_loader.cc:49] Successfully opened dynamic library libcublasLt.so.10\n",
      "2023-04-11 10:33:26.825649: I tensorflow/stream_executor/platform/default/dso_loader.cc:49] Successfully opened dynamic library libcufft.so.10\n",
      "2023-04-11 10:33:26.825938: I tensorflow/stream_executor/platform/default/dso_loader.cc:49] Successfully opened dynamic library libcurand.so.10\n",
      "2023-04-11 10:33:26.827625: I tensorflow/stream_executor/platform/default/dso_loader.cc:49] Successfully opened dynamic library libcusolver.so.10\n",
      "2023-04-11 10:33:26.828559: I tensorflow/stream_executor/platform/default/dso_loader.cc:49] Successfully opened dynamic library libcusparse.so.10\n",
      "2023-04-11 10:33:26.832569: I tensorflow/stream_executor/platform/default/dso_loader.cc:49] Successfully opened dynamic library libcudnn.so.7\n",
      "2023-04-11 10:33:26.832725: I tensorflow/stream_executor/cuda/cuda_gpu_executor.cc:941] successful NUMA node read from SysFS had negative value (-1), but there must be at least one NUMA node, so returning NUMA node zero\n",
      "2023-04-11 10:33:26.832929: I tensorflow/stream_executor/cuda/cuda_gpu_executor.cc:941] successful NUMA node read from SysFS had negative value (-1), but there must be at least one NUMA node, so returning NUMA node zero\n",
      "2023-04-11 10:33:26.833036: I tensorflow/core/common_runtime/gpu/gpu_device.cc:1862] Adding visible gpu devices: 0\n"
     ]
    }
   ],
   "source": [
    "import numpy as np\n",
    "import pandas as pd \n",
    "import matplotlib.pyplot as plt\n",
    "import tensorflow as tf\n",
    "from tensorflow.keras import layers, models\n",
    "import os\n",
    "physical_devices = tf.config.experimental.list_physical_devices('GPU')\n",
    "print(len(physical_devices))"
   ]
  },
  {
   "cell_type": "code",
   "execution_count": 2,
   "id": "6e7f2004",
   "metadata": {},
   "outputs": [],
   "source": [
    "## Defining batch specfications\n",
    "batch_size = 50\n",
    "img_height = 256\n",
    "img_width = 256"
   ]
  },
  {
   "cell_type": "code",
   "execution_count": 3,
   "id": "ff5b7a54",
   "metadata": {},
   "outputs": [
    {
     "name": "stdout",
     "output_type": "stream",
     "text": [
      "Found 70295 images belonging to 38 classes.\n"
     ]
    }
   ],
   "source": [
    "train_datagen = tf.keras.preprocessing.image.ImageDataGenerator(\n",
    "    rescale = 1./255,\n",
    "    rotation_range=10,\n",
    "    horizontal_flip=True,\n",
    "    zoom_range=0.2,\n",
    "    shear_range = 0.2,\n",
    ")\n",
    "train_generator = train_datagen.flow_from_directory(\n",
    "        'dataset/New Plant Diseases Dataset(Augmented)/New Plant Diseases Dataset(Augmented)/train',\n",
    "        target_size=(img_height,img_width),\n",
    "        batch_size=batch_size,\n",
    "        class_mode=\"sparse\",\n",
    "#         save_to_dir=\"C:\\\\Code\\\\potato-disease-classification\\\\training\\\\AugmentedImages\"\n",
    ")"
   ]
  },
  {
   "cell_type": "code",
   "execution_count": 4,
   "id": "85238970",
   "metadata": {},
   "outputs": [
    {
     "name": "stdout",
     "output_type": "stream",
     "text": [
      "Found 17572 images belonging to 38 classes.\n"
     ]
    }
   ],
   "source": [
    "valid_datagen = tf.keras.preprocessing.image.ImageDataGenerator(rescale = 1./255)\n",
    "valid_generator =  valid_datagen.flow_from_directory(\n",
    "   'dataset/New Plant Diseases Dataset(Augmented)/New Plant Diseases Dataset(Augmented)/valid',\n",
    "    target_size= (img_height, img_width),\n",
    "    batch_size=batch_size,\n",
    "    class_mode=\"sparse\"\n",
    ")"
   ]
  },
  {
   "cell_type": "code",
   "execution_count": 11,
   "id": "276092c2",
   "metadata": {},
   "outputs": [],
   "source": [
    "import json\n",
    "with open('label.json','w') as f:\n",
    "    json.dump(train_generator.class_indices,f)"
   ]
  },
  {
   "cell_type": "code",
   "execution_count": 17,
   "id": "30641d96",
   "metadata": {},
   "outputs": [
    {
     "data": {
      "text/plain": [
       "'Apple___Apple_scab'"
      ]
     },
     "execution_count": 17,
     "metadata": {},
     "output_type": "execute_result"
    }
   ],
   "source": [
    "file = open('label.json','r')\n",
    "temp = json.loads(file.read())\n",
    "temp= list(temp.keys())\n",
    "temp[0]"
   ]
  },
  {
   "cell_type": "code",
   "execution_count": 5,
   "id": "ec95c92f",
   "metadata": {},
   "outputs": [
    {
     "data": {
      "text/plain": [
       "['Apple___Apple_scab',\n",
       " 'Apple___Black_rot',\n",
       " 'Apple___Cedar_apple_rust',\n",
       " 'Apple___healthy',\n",
       " 'Blueberry___healthy',\n",
       " 'Cherry_(including_sour)___Powdery_mildew',\n",
       " 'Cherry_(including_sour)___healthy',\n",
       " 'Corn_(maize)___Cercospora_leaf_spot Gray_leaf_spot',\n",
       " 'Corn_(maize)___Common_rust_',\n",
       " 'Corn_(maize)___Northern_Leaf_Blight',\n",
       " 'Corn_(maize)___healthy',\n",
       " 'Grape___Black_rot',\n",
       " 'Grape___Esca_(Black_Measles)',\n",
       " 'Grape___Leaf_blight_(Isariopsis_Leaf_Spot)',\n",
       " 'Grape___healthy',\n",
       " 'Orange___Haunglongbing_(Citrus_greening)',\n",
       " 'Peach___Bacterial_spot',\n",
       " 'Peach___healthy',\n",
       " 'Pepper,_bell___Bacterial_spot',\n",
       " 'Pepper,_bell___healthy',\n",
       " 'Potato___Early_blight',\n",
       " 'Potato___Late_blight',\n",
       " 'Potato___healthy',\n",
       " 'Raspberry___healthy',\n",
       " 'Soybean___healthy',\n",
       " 'Squash___Powdery_mildew',\n",
       " 'Strawberry___Leaf_scorch',\n",
       " 'Strawberry___healthy',\n",
       " 'Tomato___Bacterial_spot',\n",
       " 'Tomato___Early_blight',\n",
       " 'Tomato___Late_blight',\n",
       " 'Tomato___Leaf_Mold',\n",
       " 'Tomato___Septoria_leaf_spot',\n",
       " 'Tomato___Spider_mites Two-spotted_spider_mite',\n",
       " 'Tomato___Target_Spot',\n",
       " 'Tomato___Tomato_Yellow_Leaf_Curl_Virus',\n",
       " 'Tomato___Tomato_mosaic_virus',\n",
       " 'Tomato___healthy']"
      ]
     },
     "execution_count": 5,
     "metadata": {},
     "output_type": "execute_result"
    }
   ],
   "source": [
    "class_names = list(train_generator.class_indices.keys())\n",
    "class_names"
   ]
  },
  {
   "cell_type": "code",
   "execution_count": 6,
   "id": "5d266e25",
   "metadata": {},
   "outputs": [],
   "source": [
    "#training_ds = training_ds.cache().shuffle(1000).prefetch(buffer_size=tf.data.AUTOTUNE)\n",
    "#validation_ds = validation_ds.cache().shuffle(1000).prefetch(buffer_size=tf.data.AUTOTUNE)"
   ]
  },
  {
   "cell_type": "code",
   "execution_count": 6,
   "id": "5d4dea65",
   "metadata": {},
   "outputs": [
    {
     "name": "stderr",
     "output_type": "stream",
     "text": [
      "2023-04-11 10:36:03.175924: I tensorflow/core/platform/cpu_feature_guard.cc:142] This TensorFlow binary is optimized with oneAPI Deep Neural Network Library (oneDNN) to use the following CPU instructions in performance-critical operations:  SSE4.1 SSE4.2 AVX AVX2 FMA\n",
      "To enable them in other operations, rebuild TensorFlow with the appropriate compiler flags.\n",
      "2023-04-11 10:36:03.177035: I tensorflow/compiler/jit/xla_gpu_device.cc:99] Not creating XLA devices, tf_xla_enable_xla_devices not set\n",
      "2023-04-11 10:36:03.177367: I tensorflow/stream_executor/cuda/cuda_gpu_executor.cc:941] successful NUMA node read from SysFS had negative value (-1), but there must be at least one NUMA node, so returning NUMA node zero\n",
      "2023-04-11 10:36:03.177638: I tensorflow/core/common_runtime/gpu/gpu_device.cc:1720] Found device 0 with properties: \n",
      "pciBusID: 0000:01:00.0 name: NVIDIA GeForce GTX 1050 computeCapability: 6.1\n",
      "coreClock: 1.493GHz coreCount: 5 deviceMemorySize: 3.95GiB deviceMemoryBandwidth: 104.43GiB/s\n",
      "2023-04-11 10:36:03.177721: I tensorflow/stream_executor/platform/default/dso_loader.cc:49] Successfully opened dynamic library libcudart.so.10.1\n",
      "2023-04-11 10:36:03.177773: I tensorflow/stream_executor/platform/default/dso_loader.cc:49] Successfully opened dynamic library libcublas.so.10\n",
      "2023-04-11 10:36:03.177796: I tensorflow/stream_executor/platform/default/dso_loader.cc:49] Successfully opened dynamic library libcublasLt.so.10\n",
      "2023-04-11 10:36:03.177815: I tensorflow/stream_executor/platform/default/dso_loader.cc:49] Successfully opened dynamic library libcufft.so.10\n",
      "2023-04-11 10:36:03.177833: I tensorflow/stream_executor/platform/default/dso_loader.cc:49] Successfully opened dynamic library libcurand.so.10\n",
      "2023-04-11 10:36:03.177852: I tensorflow/stream_executor/platform/default/dso_loader.cc:49] Successfully opened dynamic library libcusolver.so.10\n",
      "2023-04-11 10:36:03.177871: I tensorflow/stream_executor/platform/default/dso_loader.cc:49] Successfully opened dynamic library libcusparse.so.10\n",
      "2023-04-11 10:36:03.177890: I tensorflow/stream_executor/platform/default/dso_loader.cc:49] Successfully opened dynamic library libcudnn.so.7\n",
      "2023-04-11 10:36:03.177993: I tensorflow/stream_executor/cuda/cuda_gpu_executor.cc:941] successful NUMA node read from SysFS had negative value (-1), but there must be at least one NUMA node, so returning NUMA node zero\n",
      "2023-04-11 10:36:03.178207: I tensorflow/stream_executor/cuda/cuda_gpu_executor.cc:941] successful NUMA node read from SysFS had negative value (-1), but there must be at least one NUMA node, so returning NUMA node zero\n",
      "2023-04-11 10:36:03.178359: I tensorflow/core/common_runtime/gpu/gpu_device.cc:1862] Adding visible gpu devices: 0\n",
      "2023-04-11 10:36:03.178420: I tensorflow/stream_executor/platform/default/dso_loader.cc:49] Successfully opened dynamic library libcudart.so.10.1\n",
      "2023-04-11 10:36:03.672970: I tensorflow/core/common_runtime/gpu/gpu_device.cc:1261] Device interconnect StreamExecutor with strength 1 edge matrix:\n",
      "2023-04-11 10:36:03.673003: I tensorflow/core/common_runtime/gpu/gpu_device.cc:1267]      0 \n",
      "2023-04-11 10:36:03.673010: I tensorflow/core/common_runtime/gpu/gpu_device.cc:1280] 0:   N \n",
      "2023-04-11 10:36:03.673190: I tensorflow/stream_executor/cuda/cuda_gpu_executor.cc:941] successful NUMA node read from SysFS had negative value (-1), but there must be at least one NUMA node, so returning NUMA node zero\n",
      "2023-04-11 10:36:03.673375: I tensorflow/stream_executor/cuda/cuda_gpu_executor.cc:941] successful NUMA node read from SysFS had negative value (-1), but there must be at least one NUMA node, so returning NUMA node zero\n",
      "2023-04-11 10:36:03.673521: I tensorflow/stream_executor/cuda/cuda_gpu_executor.cc:941] successful NUMA node read from SysFS had negative value (-1), but there must be at least one NUMA node, so returning NUMA node zero\n",
      "2023-04-11 10:36:03.673638: I tensorflow/core/common_runtime/gpu/gpu_device.cc:1406] Created TensorFlow device (/job:localhost/replica:0/task:0/device:GPU:0 with 3584 MB memory) -> physical GPU (device: 0, name: NVIDIA GeForce GTX 1050, pci bus id: 0000:01:00.0, compute capability: 6.1)\n"
     ]
    }
   ],
   "source": [
    "# Defining Cnn\n",
    "model = tf.keras.models.Sequential([\n",
    "    layers.Conv2D(32, 3, activation='relu',input_shape=(256,256,3)),\n",
    "    layers.Conv2D(32, 3, activation='relu'),\n",
    "    layers.MaxPooling2D(),\n",
    "    \n",
    "    layers.Conv2D(64, 3, activation='relu'),\n",
    "    layers.MaxPooling2D(),\n",
    "    \n",
    "    layers.Conv2D(128, 3, activation='relu'),\n",
    "    layers.MaxPooling2D(),\n",
    "\n",
    "    layers.Flatten(),\n",
    "    \n",
    "    layers.Dense(256, activation='relu'),\n",
    "    layers.Dropout(0.2),\n",
    "    \n",
    "    layers.Dense(512, activation='relu'),\n",
    "    layers.Dropout(0.2),\n",
    "    \n",
    "    layers.Dense(256, activation='relu'),\n",
    "    layers.Dropout(0.2),\n",
    "    \n",
    "    layers.Dense(128, activation='relu'),\n",
    "    layers.Dropout(0.2),\n",
    "\n",
    "     layers.Dense(64, activation='relu'),\n",
    "    layers.Dropout(0.2),\n",
    "    \n",
    "    layers.Dense(len(class_names), activation= 'softmax')\n",
    "])"
   ]
  },
  {
   "cell_type": "code",
   "execution_count": 7,
   "id": "4f637251",
   "metadata": {},
   "outputs": [
    {
     "name": "stdout",
     "output_type": "stream",
     "text": [
      "Model: \"sequential\"\n",
      "_________________________________________________________________\n",
      "Layer (type)                 Output Shape              Param #   \n",
      "=================================================================\n",
      "conv2d (Conv2D)              (None, 254, 254, 32)      896       \n",
      "_________________________________________________________________\n",
      "conv2d_1 (Conv2D)            (None, 252, 252, 32)      9248      \n",
      "_________________________________________________________________\n",
      "max_pooling2d (MaxPooling2D) (None, 126, 126, 32)      0         \n",
      "_________________________________________________________________\n",
      "conv2d_2 (Conv2D)            (None, 124, 124, 64)      18496     \n",
      "_________________________________________________________________\n",
      "max_pooling2d_1 (MaxPooling2 (None, 62, 62, 64)        0         \n",
      "_________________________________________________________________\n",
      "conv2d_3 (Conv2D)            (None, 60, 60, 128)       73856     \n",
      "_________________________________________________________________\n",
      "max_pooling2d_2 (MaxPooling2 (None, 30, 30, 128)       0         \n",
      "_________________________________________________________________\n",
      "flatten (Flatten)            (None, 115200)            0         \n",
      "_________________________________________________________________\n",
      "dense (Dense)                (None, 256)               29491456  \n",
      "_________________________________________________________________\n",
      "dropout (Dropout)            (None, 256)               0         \n",
      "_________________________________________________________________\n",
      "dense_1 (Dense)              (None, 512)               131584    \n",
      "_________________________________________________________________\n",
      "dropout_1 (Dropout)          (None, 512)               0         \n",
      "_________________________________________________________________\n",
      "dense_2 (Dense)              (None, 256)               131328    \n",
      "_________________________________________________________________\n",
      "dropout_2 (Dropout)          (None, 256)               0         \n",
      "_________________________________________________________________\n",
      "dense_3 (Dense)              (None, 128)               32896     \n",
      "_________________________________________________________________\n",
      "dropout_3 (Dropout)          (None, 128)               0         \n",
      "_________________________________________________________________\n",
      "dense_4 (Dense)              (None, 64)                8256      \n",
      "_________________________________________________________________\n",
      "dropout_4 (Dropout)          (None, 64)                0         \n",
      "_________________________________________________________________\n",
      "dense_5 (Dense)              (None, 38)                2470      \n",
      "=================================================================\n",
      "Total params: 29,900,486\n",
      "Trainable params: 29,900,486\n",
      "Non-trainable params: 0\n",
      "_________________________________________________________________\n"
     ]
    }
   ],
   "source": [
    "model.summary()"
   ]
  },
  {
   "cell_type": "code",
   "execution_count": 8,
   "id": "a047cbc9",
   "metadata": {},
   "outputs": [],
   "source": [
    "model.compile(optimizer='adam',loss='sparse_categorical_crossentropy', metrics=['accuracy'])"
   ]
  },
  {
   "cell_type": "code",
   "execution_count": 9,
   "id": "bb8d5525",
   "metadata": {},
   "outputs": [],
   "source": [
    "callbacks = tf.keras.callbacks.EarlyStopping(\n",
    "    monitor=\"val_loss\",\n",
    "    min_delta=0.00001,\n",
    "    patience=3,\n",
    "    verbose=1,\n",
    "    mode=\"auto\",\n",
    "    baseline=None,\n",
    "    restore_best_weights=False,\n",
    ")"
   ]
  },
  {
   "cell_type": "code",
   "execution_count": 10,
   "id": "7ffb2194",
   "metadata": {},
   "outputs": [
    {
     "name": "stderr",
     "output_type": "stream",
     "text": [
      "2023-04-11 10:36:19.415921: I tensorflow/compiler/mlir/mlir_graph_optimization_pass.cc:116] None of the MLIR optimization passes are enabled (registered 2)\n",
      "2023-04-11 10:36:19.416282: I tensorflow/core/platform/profile_utils/cpu_utils.cc:112] CPU Frequency: 1800500000 Hz\n"
     ]
    },
    {
     "name": "stdout",
     "output_type": "stream",
     "text": [
      "Epoch 1/20\n"
     ]
    },
    {
     "name": "stderr",
     "output_type": "stream",
     "text": [
      "2023-04-11 10:36:20.146503: I tensorflow/stream_executor/platform/default/dso_loader.cc:49] Successfully opened dynamic library libcublas.so.10\n",
      "2023-04-11 10:36:22.704053: I tensorflow/stream_executor/platform/default/dso_loader.cc:49] Successfully opened dynamic library libcudnn.so.7\n",
      "2023-04-11 10:36:23.404102: W tensorflow/stream_executor/gpu/asm_compiler.cc:63] Running ptxas --version returned 256\n",
      "2023-04-11 10:36:23.456487: W tensorflow/stream_executor/gpu/redzone_allocator.cc:314] Internal: ptxas exited with non-zero error code 256, output: \n",
      "Relying on driver to perform ptx compilation. \n",
      "Modify $PATH to customize ptxas location.\n",
      "This message will be only logged once.\n",
      "2023-04-11 10:36:24.699097: W tensorflow/core/common_runtime/bfc_allocator.cc:248] Allocator (GPU_0_bfc) ran out of memory trying to allocate 3.42GiB with freed_by_count=0. The caller indicates that this is not a failure, but may mean that there could be performance gains if more memory were available.\n",
      "2023-04-11 10:36:25.242283: W tensorflow/core/common_runtime/bfc_allocator.cc:248] Allocator (GPU_0_bfc) ran out of memory trying to allocate 2.20GiB with freed_by_count=0. The caller indicates that this is not a failure, but may mean that there could be performance gains if more memory were available.\n",
      "2023-04-11 10:36:30.835230: W tensorflow/core/common_runtime/bfc_allocator.cc:248] Allocator (GPU_0_bfc) ran out of memory trying to allocate 1.31GiB with freed_by_count=0. The caller indicates that this is not a failure, but may mean that there could be performance gains if more memory were available.\n",
      "2023-04-11 10:36:31.164424: W tensorflow/core/common_runtime/bfc_allocator.cc:248] Allocator (GPU_0_bfc) ran out of memory trying to allocate 2.27GiB with freed_by_count=0. The caller indicates that this is not a failure, but may mean that there could be performance gains if more memory were available.\n",
      "2023-04-11 10:36:31.706404: W tensorflow/core/common_runtime/bfc_allocator.cc:248] Allocator (GPU_0_bfc) ran out of memory trying to allocate 1.97GiB with freed_by_count=0. The caller indicates that this is not a failure, but may mean that there could be performance gains if more memory were available.\n",
      "2023-04-11 10:36:31.706444: W tensorflow/core/common_runtime/bfc_allocator.cc:248] Allocator (GPU_0_bfc) ran out of memory trying to allocate 1.72GiB with freed_by_count=0. The caller indicates that this is not a failure, but may mean that there could be performance gains if more memory were available.\n"
     ]
    },
    {
     "name": "stdout",
     "output_type": "stream",
     "text": [
      "1395/1406 [============================>.] - ETA: 26s - loss: 3.2974 - accuracy: 0.0980"
     ]
    },
    {
     "name": "stderr",
     "output_type": "stream",
     "text": [
      "2023-04-11 11:32:26.922202: W tensorflow/core/common_runtime/bfc_allocator.cc:248] Allocator (GPU_0_bfc) ran out of memory trying to allocate 3.08GiB with freed_by_count=0. The caller indicates that this is not a failure, but may mean that there could be performance gains if more memory were available.\n",
      "2023-04-11 11:32:32.088828: W tensorflow/core/common_runtime/bfc_allocator.cc:248] Allocator (GPU_0_bfc) ran out of memory trying to allocate 1.23GiB with freed_by_count=0. The caller indicates that this is not a failure, but may mean that there could be performance gains if more memory were available.\n",
      "2023-04-11 11:32:32.347062: W tensorflow/core/common_runtime/bfc_allocator.cc:248] Allocator (GPU_0_bfc) ran out of memory trying to allocate 1.70GiB with freed_by_count=0. The caller indicates that this is not a failure, but may mean that there could be performance gains if more memory were available.\n",
      "2023-04-11 11:32:32.813570: W tensorflow/core/common_runtime/bfc_allocator.cc:248] Allocator (GPU_0_bfc) ran out of memory trying to allocate 1.77GiB with freed_by_count=0. The caller indicates that this is not a failure, but may mean that there could be performance gains if more memory were available.\n"
     ]
    },
    {
     "name": "stdout",
     "output_type": "stream",
     "text": [
      "1406/1406 [==============================] - 3776s 3s/step - loss: 3.2924 - accuracy: 0.0991 - val_loss: 1.4170 - val_accuracy: 0.5616\n",
      "Epoch 2/20\n",
      "1406/1406 [==============================] - 2780s 2s/step - loss: 1.4973 - accuracy: 0.5431 - val_loss: 0.9459 - val_accuracy: 0.7135\n",
      "Epoch 3/20\n",
      "1406/1406 [==============================] - 2440s 2s/step - loss: 0.9387 - accuracy: 0.7271 - val_loss: 0.5302 - val_accuracy: 0.8448\n",
      "Epoch 4/20\n",
      "1406/1406 [==============================] - 2484s 2s/step - loss: 0.7128 - accuracy: 0.7984 - val_loss: 0.4464 - val_accuracy: 0.8700\n",
      "Epoch 5/20\n",
      "1406/1406 [==============================] - 2186s 2s/step - loss: 0.6002 - accuracy: 0.8326 - val_loss: 0.3998 - val_accuracy: 0.8799\n",
      "Epoch 6/20\n",
      "1406/1406 [==============================] - 3704s 3s/step - loss: 0.5209 - accuracy: 0.8553 - val_loss: 0.3383 - val_accuracy: 0.8971\n",
      "Epoch 7/20\n",
      "1406/1406 [==============================] - 2955s 2s/step - loss: 0.4768 - accuracy: 0.8678 - val_loss: 0.3029 - val_accuracy: 0.9093\n",
      "Epoch 8/20\n",
      "1406/1406 [==============================] - 3067s 2s/step - loss: 0.4225 - accuracy: 0.8832 - val_loss: 0.2772 - val_accuracy: 0.9168\n",
      "Epoch 9/20\n",
      "1406/1406 [==============================] - 3218s 2s/step - loss: 0.3857 - accuracy: 0.8942 - val_loss: 0.2549 - val_accuracy: 0.9232\n",
      "Epoch 10/20\n",
      "1406/1406 [==============================] - 3303s 2s/step - loss: 0.3904 - accuracy: 0.8929 - val_loss: 0.2534 - val_accuracy: 0.9273\n",
      "Epoch 11/20\n",
      "1406/1406 [==============================] - 2232s 2s/step - loss: 0.3681 - accuracy: 0.9004 - val_loss: 0.2826 - val_accuracy: 0.9220\n",
      "Epoch 12/20\n",
      "1406/1406 [==============================] - 1449s 1s/step - loss: 0.3527 - accuracy: 0.9049 - val_loss: 0.2480 - val_accuracy: 0.9273\n",
      "Epoch 13/20\n",
      "1406/1406 [==============================] - 1497s 1s/step - loss: 0.3212 - accuracy: 0.9139 - val_loss: 0.2568 - val_accuracy: 0.9322\n",
      "Epoch 14/20\n",
      "1406/1406 [==============================] - 1734s 1s/step - loss: 0.3235 - accuracy: 0.9136 - val_loss: 0.2105 - val_accuracy: 0.9381\n",
      "Epoch 15/20\n",
      "1406/1406 [==============================] - 1189s 845ms/step - loss: 0.2996 - accuracy: 0.9229 - val_loss: 0.2191 - val_accuracy: 0.9331\n",
      "Epoch 16/20\n",
      "1406/1406 [==============================] - 1212s 862ms/step - loss: 0.2859 - accuracy: 0.9235 - val_loss: 0.2277 - val_accuracy: 0.9312\n",
      "Epoch 17/20\n",
      "1406/1406 [==============================] - 1217s 865ms/step - loss: 0.2846 - accuracy: 0.9260 - val_loss: 0.1972 - val_accuracy: 0.9420\n",
      "Epoch 18/20\n",
      "1406/1406 [==============================] - 2717s 2s/step - loss: 0.2802 - accuracy: 0.9262 - val_loss: 0.2235 - val_accuracy: 0.9454\n",
      "Epoch 19/20\n",
      "1406/1406 [==============================] - 1342s 952ms/step - loss: 0.2771 - accuracy: 0.9297 - val_loss: 0.2043 - val_accuracy: 0.9386\n",
      "Epoch 20/20\n",
      "1406/1406 [==============================] - 1172s 833ms/step - loss: 0.2746 - accuracy: 0.9303 - val_loss: 0.1661 - val_accuracy: 0.9537\n"
     ]
    }
   ],
   "source": [
    "# lets train our CNN\n",
    "history = model.fit(train_generator,validation_data=valid_generator,callbacks=callbacks,epochs = 20)"
   ]
  },
  {
   "cell_type": "code",
   "execution_count": 22,
   "id": "be59a7e5",
   "metadata": {},
   "outputs": [
    {
     "name": "stdout",
     "output_type": "stream",
     "text": [
      "352/352 [==============================] - 43s 121ms/step - loss: 0.1847 - accuracy: 0.9490\n"
     ]
    }
   ],
   "source": [
    "result = model.evaluate(valid_generator)"
   ]
  },
  {
   "cell_type": "code",
   "execution_count": 23,
   "id": "03b8b6c4",
   "metadata": {},
   "outputs": [
    {
     "data": {
      "text/plain": [
       "[0.18472135066986084, 0.948952853679657]"
      ]
     },
     "execution_count": 23,
     "metadata": {},
     "output_type": "execute_result"
    }
   ],
   "source": [
    "result"
   ]
  },
  {
   "cell_type": "code",
   "execution_count": 13,
   "id": "94d4fd96",
   "metadata": {},
   "outputs": [
    {
     "data": {
      "image/png": "[encoded data removed]",
      "text/plain": [
       "<Figure size 640x480 with 1 Axes>"
      ]
     },
     "metadata": {},
     "output_type": "display_data"
    }
   ],
   "source": [
    "plt.plot(history.history['accuracy'],color='red',label='train')\n",
    "plt.plot(history.history['val_accuracy'],color='blue',label='validation')\n",
    "plt.legend()\n",
    "plt.show()"
   ]
  },
  {
   "cell_type": "code",
   "execution_count": 15,
   "id": "9938db6b",
   "metadata": {},
   "outputs": [
    {
     "data": {
      "image/png": "[encoded data removed]",
      "text/plain": [
       "<Figure size 640x480 with 1 Axes>"
      ]
     },
     "metadata": {},
     "output_type": "display_data"
    }
   ],
   "source": [
    "plt.plot(history.history['loss'],color='red',label='train')\n",
    "plt.plot(history.history['val_loss'],color='blue',label='validation')\n",
    "plt.legend()\n",
    "plt.show()"
   ]
  },
  {
   "cell_type": "code",
   "execution_count": 29,
   "id": "7c719e6b",
   "metadata": {},
   "outputs": [
    {
     "name": "stderr",
     "output_type": "stream",
     "text": [
      "2023-04-11 23:35:40.913254: W tensorflow/core/framework/cpu_allocator_impl.cc:80] Allocation of 117964800 exceeds 10% of free system memory.\n",
      "2023-04-11 23:35:41.061356: W tensorflow/core/framework/cpu_allocator_impl.cc:80] Allocation of 117964800 exceeds 10% of free system memory.\n",
      "2023-04-11 23:35:41.152280: W tensorflow/core/framework/cpu_allocator_impl.cc:80] Allocation of 117964800 exceeds 10% of free system memory.\n"
     ]
    }
   ],
   "source": [
    "model.save('model.h5')"
   ]
  },
  {
   "cell_type": "code",
   "execution_count": 26,
   "id": "7c236109",
   "metadata": {
    "collapsed": true
   },
   "outputs": [
    {
     "ename": "ValueError",
     "evalue": "too many values to unpack (expected 2)",
     "output_type": "error",
     "traceback": [
      "\u001b[0;31m---------------------------------------------------------------------------\u001b[0m",
      "\u001b[0;31mValueError\u001b[0m                                Traceback (most recent call last)",
      "Cell \u001b[0;32mIn[26], line 3\u001b[0m\n\u001b[1;32m      1\u001b[0m AccuracyVector \u001b[38;5;241m=\u001b[39m []\n\u001b[1;32m      2\u001b[0m plt\u001b[38;5;241m.\u001b[39mfigure(figsize\u001b[38;5;241m=\u001b[39m(\u001b[38;5;241m30\u001b[39m, \u001b[38;5;241m30\u001b[39m))\n\u001b[0;32m----> 3\u001b[0m \u001b[38;5;28;01mfor\u001b[39;00m images, labels \u001b[38;5;129;01min\u001b[39;00m \u001b[38;5;28mnext\u001b[39m(valid_generator):\n\u001b[1;32m      4\u001b[0m     predictions \u001b[38;5;241m=\u001b[39m model\u001b[38;5;241m.\u001b[39mpredict(images)\n\u001b[1;32m      5\u001b[0m     predlabel \u001b[38;5;241m=\u001b[39m []\n",
      "\u001b[0;31mValueError\u001b[0m: too many values to unpack (expected 2)"
     ]
    },
    {
     "data": {
      "text/plain": [
       "<Figure size 3000x3000 with 0 Axes>"
      ]
     },
     "metadata": {},
     "output_type": "display_data"
    }
   ],
   "source": [
    "AccuracyVector = []\n",
    "plt.figure(figsize=(30, 30))\n",
    "for images, labels in next(valid_generator):\n",
    "    predictions = model.predict(images)\n",
    "    predlabel = []\n",
    "    prdlbl = []\n",
    "    \n",
    "    for mem in predictions:\n",
    "        predlabel.append(class_names[np.argmax(mem)])\n",
    "        prdlbl.append(np.argmax(mem))\n",
    "    \n",
    "    AccuracyVector = np.array(prdlbl) == labels\n",
    "    for i in range(40):\n",
    "        ax = plt.subplot(10, 4, i + 1)\n",
    "        plt.imshow(images[i].numpy().astype(\"uint8\"))\n",
    "        plt.title('Pred: '+ predlabel[i]+' actl:'+class_names[labels[i]])\n",
    "        plt.axis('off')\n",
    "        plt.grid(True)"
   ]
  },
  {
   "cell_type": "code",
   "execution_count": 17,
   "id": "b8f781f1",
   "metadata": {},
   "outputs": [
    {
     "name": "stderr",
     "output_type": "stream",
     "text": [
      "2023-04-08 17:00:05.525008: I tensorflow/core/kernels/data/shuffle_dataset_op.cc:177] Filling up shuffle buffer (this may take a while): 677 of 800\n",
      "2023-04-08 17:00:07.202953: I tensorflow/core/kernels/data/shuffle_dataset_op.cc:230] Shuffle buffer filled.\n"
     ]
    }
   ],
   "source": [
    "for images, labels in validation_ds.take(1):\n",
    "    predictions = model.predict(images)"
   ]
  },
  {
   "cell_type": "code",
   "execution_count": 28,
   "id": "c2c29d91",
   "metadata": {},
   "outputs": [
    {
     "ename": "AttributeError",
     "evalue": "'DirectoryIterator' object has no attribute 'take'",
     "output_type": "error",
     "traceback": [
      "\u001b[0;31m---------------------------------------------------------------------------\u001b[0m",
      "\u001b[0;31mAttributeError\u001b[0m                            Traceback (most recent call last)",
      "Cell \u001b[0;32mIn[28], line 1\u001b[0m\n\u001b[0;32m----> 1\u001b[0m \u001b[38;5;28;01mfor\u001b[39;00m x,y \u001b[38;5;129;01min\u001b[39;00m \u001b[43mvalid_generator\u001b[49m\u001b[38;5;241;43m.\u001b[39;49m\u001b[43mtake\u001b[49m(\u001b[38;5;241m1\u001b[39m):\n\u001b[1;32m      2\u001b[0m     \u001b[38;5;28mprint\u001b[39m(np\u001b[38;5;241m.\u001b[39mmax(model\u001b[38;5;241m.\u001b[39mpredict(x),axis\u001b[38;5;241m=\u001b[39m\u001b[38;5;241m1\u001b[39m)\u001b[38;5;241m*\u001b[39m\u001b[38;5;241m100\u001b[39m)\n",
      "\u001b[0;31mAttributeError\u001b[0m: 'DirectoryIterator' object has no attribute 'take'"
     ]
    }
   ],
   "source": [
    "for x,y in valid_generator.take(1):\n",
    "    print(np.max(model.predict(x),axis=1)*100)"
   ]
  },
  {
   "cell_type": "code",
   "execution_count": 30,
   "id": "ccd2f441",
   "metadata": {},
   "outputs": [
    {
     "name": "stderr",
     "output_type": "stream",
     "text": [
      "2023-04-11 23:36:01.929926: W tensorflow/core/framework/cpu_allocator_impl.cc:80] Allocation of 117964800 exceeds 10% of free system memory.\n",
      "2023-04-11 23:36:02.082602: W tensorflow/core/framework/cpu_allocator_impl.cc:80] Allocation of 117964800 exceeds 10% of free system memory.\n"
     ]
    }
   ],
   "source": [
    "from tensorflow.keras.models import load_model\n",
    "import cv2 as cv\n",
    "model = load_model('model.h5')"
   ]
  },
  {
   "cell_type": "code",
   "execution_count": 31,
   "id": "5b2672a8",
   "metadata": {},
   "outputs": [
    {
     "name": "stdout",
     "output_type": "stream",
     "text": [
      "actual :AppleCedarRust1.JPG Pred : Pepper,_bell___healthy\n",
      "accuracy :  70.5754041671753\n",
      "actual :AppleCedarRust2.JPG Pred : Blueberry___healthy\n",
      "accuracy :  98.42200875282288\n",
      "actual :AppleCedarRust3.JPG Pred : Tomato___Septoria_leaf_spot\n",
      "accuracy :  33.24514925479889\n",
      "actual :AppleCedarRust4.JPG Pred : Apple___healthy\n",
      "accuracy :  85.6158971786499\n",
      "actual :AppleScab1.JPG Pred : Pepper,_bell___healthy\n",
      "accuracy :  94.16634440422058\n",
      "actual :AppleScab2.JPG Pred : Orange___Haunglongbing_(Citrus_greening)\n",
      "accuracy :  99.93756413459778\n",
      "actual :AppleScab3.JPG Pred : Soybean___healthy\n",
      "accuracy :  89.53988552093506\n",
      "actual :CornCommonRust1.JPG Pred : Tomato___Late_blight\n",
      "accuracy :  95.7698106765747\n",
      "actual :CornCommonRust2.JPG Pred : Tomato___Late_blight\n",
      "accuracy :  85.33758521080017\n",
      "actual :CornCommonRust3.JPG Pred : Tomato___Late_blight\n",
      "accuracy :  99.99270439147949\n",
      "actual :PotatoEarlyBlight1.JPG Pred : Pepper,_bell___healthy\n",
      "accuracy :  66.13483428955078\n",
      "actual :PotatoEarlyBlight2.JPG Pred : Potato___healthy\n",
      "accuracy :  100.0\n",
      "actual :PotatoEarlyBlight3.JPG Pred : Potato___Late_blight\n",
      "accuracy :  80.95839619636536\n",
      "actual :PotatoEarlyBlight4.JPG Pred : Potato___healthy\n",
      "accuracy :  100.0\n",
      "actual :PotatoEarlyBlight5.JPG Pred : Pepper,_bell___healthy\n",
      "accuracy :  99.98650550842285\n",
      "actual :PotatoHealthy1.JPG Pred : Pepper,_bell___healthy\n",
      "accuracy :  99.99996423721313\n",
      "actual :PotatoHealthy2.JPG Pred : Pepper,_bell___healthy\n",
      "accuracy :  99.9992847442627\n",
      "actual :TomatoEarlyBlight1.JPG Pred : Apple___Black_rot\n",
      "accuracy :  55.64034581184387\n",
      "actual :TomatoEarlyBlight2.JPG Pred : Tomato___Leaf_Mold\n",
      "accuracy :  64.18991684913635\n",
      "actual :TomatoEarlyBlight3.JPG Pred : Tomato___Target_Spot\n",
      "accuracy :  35.31360626220703\n",
      "actual :TomatoEarlyBlight4.JPG Pred : Tomato___Leaf_Mold\n",
      "accuracy :  62.18443512916565\n",
      "actual :TomatoEarlyBlight5.JPG Pred : Tomato___Septoria_leaf_spot\n",
      "accuracy :  90.33166766166687\n",
      "actual :TomatoEarlyBlight6.JPG Pred : Tomato___Leaf_Mold\n",
      "accuracy :  47.13702201843262\n",
      "actual :TomatoHealthy1.JPG Pred : Potato___healthy\n",
      "accuracy :  84.60267186164856\n",
      "actual :TomatoHealthy2.JPG Pred : Tomato___healthy\n",
      "accuracy :  97.30826616287231\n",
      "actual :TomatoHealthy3.JPG Pred : Tomato___Target_Spot\n",
      "accuracy :  38.83348107337952\n",
      "actual :TomatoHealthy4.JPG Pred : Tomato___Early_blight\n",
      "accuracy :  94.2930519580841\n",
      "actual :TomatoYellowCurlVirus1.JPG Pred : Tomato___Tomato_Yellow_Leaf_Curl_Virus\n",
      "accuracy :  54.69779372215271\n",
      "actual :TomatoYellowCurlVirus2.JPG Pred : Tomato___Leaf_Mold\n",
      "accuracy :  58.07064771652222\n",
      "actual :TomatoYellowCurlVirus3.JPG Pred : Tomato___Tomato_Yellow_Leaf_Curl_Virus\n",
      "accuracy :  47.22722768783569\n",
      "actual :TomatoYellowCurlVirus4.JPG Pred : Tomato___Tomato_Yellow_Leaf_Curl_Virus\n",
      "accuracy :  98.75998497009277\n",
      "actual :TomatoYellowCurlVirus5.JPG Pred : Tomato___Bacterial_spot\n",
      "accuracy :  54.549068212509155\n",
      "actual :TomatoYellowCurlVirus6.JPG Pred : Pepper,_bell___healthy\n",
      "accuracy :  69.49232220649719\n"
     ]
    }
   ],
   "source": [
    "path = 'dataset/test/test'\n",
    "for i in os.listdir(path):\n",
    "    img = cv.imread(os.path.join(path,i))\n",
    "    img = img/255\n",
    "    img = cv.resize(img,(256,256))\n",
    "    img = img.reshape(1,256,256,3)\n",
    "    print(\"actual :\"+ i + \" Pred : \" + class_names[np.argmax(model.predict(img))])\n",
    "    print(\"accuracy : \",np.max(model.predict(img)) * 100)"
   ]
  },
  {
   "cell_type": "code",
   "execution_count": 60,
   "id": "e8c9513a",
   "metadata": {
    "scrolled": true
   },
   "outputs": [
    {
     "data": {
      "text/plain": [
       "['AppleCedarRust1.JPG',\n",
       " 'AppleCedarRust2.JPG',\n",
       " 'AppleCedarRust3.JPG',\n",
       " 'AppleCedarRust4.JPG',\n",
       " 'AppleScab1.JPG',\n",
       " 'AppleScab2.JPG',\n",
       " 'AppleScab3.JPG',\n",
       " 'CornCommonRust1.JPG',\n",
       " 'CornCommonRust2.JPG',\n",
       " 'CornCommonRust3.JPG',\n",
       " 'PotatoEarlyBlight1.JPG',\n",
       " 'PotatoEarlyBlight2.JPG',\n",
       " 'PotatoEarlyBlight3.JPG',\n",
       " 'PotatoEarlyBlight4.JPG',\n",
       " 'PotatoEarlyBlight5.JPG',\n",
       " 'PotatoHealthy1.JPG',\n",
       " 'PotatoHealthy2.JPG',\n",
       " 'TomatoEarlyBlight1.JPG',\n",
       " 'TomatoEarlyBlight2.JPG',\n",
       " 'TomatoEarlyBlight3.JPG',\n",
       " 'TomatoEarlyBlight4.JPG',\n",
       " 'TomatoEarlyBlight5.JPG',\n",
       " 'TomatoEarlyBlight6.JPG',\n",
       " 'TomatoHealthy1.JPG',\n",
       " 'TomatoHealthy2.JPG',\n",
       " 'TomatoHealthy3.JPG',\n",
       " 'TomatoHealthy4.JPG',\n",
       " 'TomatoYellowCurlVirus1.JPG',\n",
       " 'TomatoYellowCurlVirus2.JPG',\n",
       " 'TomatoYellowCurlVirus3.JPG',\n",
       " 'TomatoYellowCurlVirus4.JPG',\n",
       " 'TomatoYellowCurlVirus5.JPG',\n",
       " 'TomatoYellowCurlVirus6.JPG']"
      ]
     },
     "execution_count": 60,
     "metadata": {},
     "output_type": "execute_result"
    }
   ],
   "source": [
    "os.listdir(path)"
   ]
  },
  {
   "cell_type": "code",
   "execution_count": 36,
   "id": "a1c9ea68",
   "metadata": {},
   "outputs": [],
   "source": [
    "img = cv.imread(os.path.join(path,'AppleCedarRust1.JPG'))\n",
    "img = cv.resize(img,(256,250))"
   ]
  },
  {
   "cell_type": "code",
   "execution_count": 40,
   "id": "57c674a0",
   "metadata": {},
   "outputs": [],
   "source": [
    "model.save('model2.h5')"
   ]
  },
  {
   "cell_type": "code",
   "execution_count": null,
   "id": "1e0039e9",
   "metadata": {},
   "outputs": [],
   "source": []
  }
 ],
 "metadata": {
  "kernelspec": {
   "display_name": "Python 3 (ipykernel)",
   "language": "python",
   "name": "python3"
  },
  "language_info": {
   "codemirror_mode": {
    "name": "ipython",
    "version": 3
   },
   "file_extension": ".py",
   "mimetype": "text/x-python",
   "name": "python",
   "nbconvert_exporter": "python",
   "pygments_lexer": "ipython3",
   "version": "3.9.16"
  }
 },
 "nbformat": 4,
 "nbformat_minor": 5
}
